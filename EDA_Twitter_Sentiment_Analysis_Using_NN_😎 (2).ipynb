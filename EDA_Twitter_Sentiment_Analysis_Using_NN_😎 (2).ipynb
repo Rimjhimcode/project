{
  "metadata": {
    "kernelspec": {
      "language": "python",
      "display_name": "Python 3",
      "name": "python3"
    },
    "language_info": {
      "name": "python",
      "version": "3.7.9",
      "mimetype": "text/x-python",
      "codemirror_mode": {
        "name": "ipython",
        "version": 3
      },
      "pygments_lexer": "ipython3",
      "nbconvert_exporter": "python",
      "file_extension": ".py"
    },
    "kaggle": {
      "accelerator": "none",
      "dataSources": [
        {
          "sourceId": 4140,
          "sourceType": "datasetVersion",
          "datasetId": 2477
        }
      ],
      "dockerImageVersionId": 30075,
      "isInternetEnabled": true,
      "language": "python",
      "sourceType": "notebook",
      "isGpuEnabled": false
    },
    "colab": {
      "name": "EDA: Twitter Sentiment Analysis Using NN 😎",
      "provenance": []
    }
  },
  "nbformat_minor": 0,
  "nbformat": 4,
  "cells": [
    {
      "cell_type": "markdown",
      "source": [
        "<div class=\"alert alert-block alert-danger\">  \n",
        "<h2><center><strong>Importing Python Libraries 📕 📗 📘 📙</strong></center></h2>\n",
        "        \n",
        "</div>"
      ],
      "metadata": {
        "papermill": {
          "duration": 0.065466,
          "end_time": "2020-11-30T07:38:51.578836",
          "exception": false,
          "start_time": "2020-11-30T07:38:51.51337",
          "status": "completed"
        },
        "tags": [],
        "id": "naex4cLsoaRn"
      }
    },
    {
      "cell_type": "markdown",
      "source": [
        "- Libraries are important and we call them to perform the different actions on our data and for training the models.\n",
        "- Its a first step to load the library to perform the specific task"
      ],
      "metadata": {
        "id": "rjM_bCsRoaRn"
      }
    },
    {
      "cell_type": "code",
      "source": [
        "import numpy as np\n",
        "import pandas as pd\n",
        "import seaborn as sns\n",
        "import matplotlib.pyplot as plt\n",
        "plt.style.use('ggplot')\n",
        "from sklearn.metrics import roc_curve, auc\n",
        "from sklearn.metrics import classification_report, confusion_matrix\n",
        "import nltk\n",
        "from nltk.corpus import stopwords\n",
        "from nltk.stem import PorterStemmer\n",
        "from sklearn.model_selection import train_test_split\n",
        "from mlxtend.plotting import plot_confusion_matrix\n",
        "import matplotlib.cm as cm\n",
        "from matplotlib import rcParams\n",
        "from collections import Counter\n",
        "from nltk.tokenize import RegexpTokenizer\n",
        "import re\n",
        "import string\n",
        "from tensorflow.keras.layers import LSTM, Activation, Dense, Dropout, Input, Embedding\n",
        "from tensorflow.keras.models import Model\n",
        "from tensorflow.keras.optimizers import RMSprop\n",
        "from tensorflow.keras.preprocessing.text import Tokenizer\n",
        "from tensorflow.keras.preprocessing import sequence\n",
        "%matplotlib inline\n",
        "\n",
        "import warnings\n",
        "warnings.filterwarnings(\"ignore\")"
      ],
      "metadata": {
        "id": "-E4TvIVLMa73",
        "scrolled": true,
        "execution": {
          "iopub.status.busy": "2023-04-03T08:06:57.321911Z",
          "iopub.execute_input": "2023-04-03T08:06:57.322357Z",
          "iopub.status.idle": "2023-04-03T08:06:59.98071Z",
          "shell.execute_reply.started": "2023-04-03T08:06:57.322267Z",
          "shell.execute_reply": "2023-04-03T08:06:59.979609Z"
        },
        "trusted": true
      },
      "execution_count": null,
      "outputs": []
    },
    {
      "cell_type": "markdown",
      "source": [
        "<h4> We are uisng the following versions of the libraries:</h4>\n",
        "\n",
        "- numpy == 1.18.5\n",
        "\n",
        "- pandas == 1.1.3\n",
        "\n",
        "- tensorflow ==1.7.0\n",
        "\n",
        "- keras == 2.4.3\n",
        "\n",
        "- nltk ==3.5\n",
        "\n",
        "- seaborn ==0.11.0"
      ],
      "metadata": {
        "id": "B1q0KAJToaRo"
      }
    },
    {
      "cell_type": "markdown",
      "source": [
        "<h4>How we can install the libraries in python?</h4>"
      ],
      "metadata": {
        "id": "1PuEBNEuoaRo"
      }
    },
    {
      "cell_type": "markdown",
      "source": [
        "<h4>To install the python library is very easy</h4>\n",
        "- pip install name_of_library\n",
        "<h5> Like if you wanted to install tensorflow? </h5>\n",
        "- pip install tensforflow"
      ],
      "metadata": {
        "id": "34cq80UuoaRo"
      }
    },
    {
      "cell_type": "markdown",
      "source": [
        "<div class=\"alert alert-block alert-danger\">  \n",
        "<h2><center><strong>Loading the data 📁 📂</strong></center></h2>\n",
        "        \n",
        "</div>"
      ],
      "metadata": {
        "papermill": {
          "duration": 0.065466,
          "end_time": "2020-11-30T07:38:51.578836",
          "exception": false,
          "start_time": "2020-11-30T07:38:51.51337",
          "status": "completed"
        },
        "tags": [],
        "id": "WZvEbmd7oaRo"
      }
    },
    {
      "cell_type": "code",
      "source": [
        "data = pd.read_csv(\"/kaggle/input/sentiment140/training.1600000.processed.noemoticon.csv\", encoding = \"ISO-8859-1\", engine=\"python\")\n",
        "data.columns = [\"label\", \"time\", \"date\", \"query\", \"username\", \"text\"]"
      ],
      "metadata": {
        "execution": {
          "iopub.status.busy": "2023-04-03T08:06:59.983151Z",
          "iopub.execute_input": "2023-04-03T08:06:59.983639Z",
          "iopub.status.idle": "2023-04-03T08:07:13.73835Z",
          "shell.execute_reply.started": "2023-04-03T08:06:59.983591Z",
          "shell.execute_reply": "2023-04-03T08:07:13.73733Z"
        },
        "trusted": true,
        "id": "ilNvILZcoaRo"
      },
      "execution_count": null,
      "outputs": []
    },
    {
      "cell_type": "markdown",
      "source": [
        "<div class=\"alert alert-block alert-danger\">  \n",
        "<h2><center><strong>Exploratory data analysis 🔎 📊</strong></center></h2>\n",
        "        \n",
        "</div>"
      ],
      "metadata": {
        "papermill": {
          "duration": 0.065466,
          "end_time": "2020-11-30T07:38:51.578836",
          "exception": false,
          "start_time": "2020-11-30T07:38:51.51337",
          "status": "completed"
        },
        "tags": [],
        "id": "mpCoF_jqoaRo"
      }
    },
    {
      "cell_type": "markdown",
      "source": [
        "#### Five top records of data"
      ],
      "metadata": {
        "id": "rbL_kzBZoaRo"
      }
    },
    {
      "cell_type": "code",
      "source": [
        "data.head()"
      ],
      "metadata": {
        "execution": {
          "iopub.status.busy": "2023-04-03T08:07:13.740119Z",
          "iopub.execute_input": "2023-04-03T08:07:13.740591Z",
          "iopub.status.idle": "2023-04-03T08:07:13.762702Z",
          "shell.execute_reply.started": "2023-04-03T08:07:13.740542Z",
          "shell.execute_reply": "2023-04-03T08:07:13.761647Z"
        },
        "trusted": true,
        "id": "F8pQ9-K4oaRo",
        "outputId": "7c6fa2aa-5baf-4793-d186-553cc678fd66",
        "colab": {
          "base_uri": "https://localhost:8080/",
          "height": 206
        }
      },
      "execution_count": 11,
      "outputs": [
        {
          "output_type": "execute_result",
          "data": {
            "text/plain": [
              "   label\n",
              "0      0\n",
              "1      1\n",
              "2      2\n",
              "3      3\n",
              "4      1"
            ],
            "text/html": [
              "\n",
              "  <div id=\"df-c1313ee8-9e74-4243-ba7d-99e9611f3516\" class=\"colab-df-container\">\n",
              "    <div>\n",
              "<style scoped>\n",
              "    .dataframe tbody tr th:only-of-type {\n",
              "        vertical-align: middle;\n",
              "    }\n",
              "\n",
              "    .dataframe tbody tr th {\n",
              "        vertical-align: top;\n",
              "    }\n",
              "\n",
              "    .dataframe thead th {\n",
              "        text-align: right;\n",
              "    }\n",
              "</style>\n",
              "<table border=\"1\" class=\"dataframe\">\n",
              "  <thead>\n",
              "    <tr style=\"text-align: right;\">\n",
              "      <th></th>\n",
              "      <th>label</th>\n",
              "    </tr>\n",
              "  </thead>\n",
              "  <tbody>\n",
              "    <tr>\n",
              "      <th>0</th>\n",
              "      <td>0</td>\n",
              "    </tr>\n",
              "    <tr>\n",
              "      <th>1</th>\n",
              "      <td>1</td>\n",
              "    </tr>\n",
              "    <tr>\n",
              "      <th>2</th>\n",
              "      <td>2</td>\n",
              "    </tr>\n",
              "    <tr>\n",
              "      <th>3</th>\n",
              "      <td>3</td>\n",
              "    </tr>\n",
              "    <tr>\n",
              "      <th>4</th>\n",
              "      <td>1</td>\n",
              "    </tr>\n",
              "  </tbody>\n",
              "</table>\n",
              "</div>\n",
              "    <div class=\"colab-df-buttons\">\n",
              "\n",
              "  <div class=\"colab-df-container\">\n",
              "    <button class=\"colab-df-convert\" onclick=\"convertToInteractive('df-c1313ee8-9e74-4243-ba7d-99e9611f3516')\"\n",
              "            title=\"Convert this dataframe to an interactive table.\"\n",
              "            style=\"display:none;\">\n",
              "\n",
              "  <svg xmlns=\"http://www.w3.org/2000/svg\" height=\"24px\" viewBox=\"0 -960 960 960\">\n",
              "    <path d=\"M120-120v-720h720v720H120Zm60-500h600v-160H180v160Zm220 220h160v-160H400v160Zm0 220h160v-160H400v160ZM180-400h160v-160H180v160Zm440 0h160v-160H620v160ZM180-180h160v-160H180v160Zm440 0h160v-160H620v160Z\"/>\n",
              "  </svg>\n",
              "    </button>\n",
              "\n",
              "  <style>\n",
              "    .colab-df-container {\n",
              "      display:flex;\n",
              "      gap: 12px;\n",
              "    }\n",
              "\n",
              "    .colab-df-convert {\n",
              "      background-color: #E8F0FE;\n",
              "      border: none;\n",
              "      border-radius: 50%;\n",
              "      cursor: pointer;\n",
              "      display: none;\n",
              "      fill: #1967D2;\n",
              "      height: 32px;\n",
              "      padding: 0 0 0 0;\n",
              "      width: 32px;\n",
              "    }\n",
              "\n",
              "    .colab-df-convert:hover {\n",
              "      background-color: #E2EBFA;\n",
              "      box-shadow: 0px 1px 2px rgba(60, 64, 67, 0.3), 0px 1px 3px 1px rgba(60, 64, 67, 0.15);\n",
              "      fill: #174EA6;\n",
              "    }\n",
              "\n",
              "    .colab-df-buttons div {\n",
              "      margin-bottom: 4px;\n",
              "    }\n",
              "\n",
              "    [theme=dark] .colab-df-convert {\n",
              "      background-color: #3B4455;\n",
              "      fill: #D2E3FC;\n",
              "    }\n",
              "\n",
              "    [theme=dark] .colab-df-convert:hover {\n",
              "      background-color: #434B5C;\n",
              "      box-shadow: 0px 1px 3px 1px rgba(0, 0, 0, 0.15);\n",
              "      filter: drop-shadow(0px 1px 2px rgba(0, 0, 0, 0.3));\n",
              "      fill: #FFFFFF;\n",
              "    }\n",
              "  </style>\n",
              "\n",
              "    <script>\n",
              "      const buttonEl =\n",
              "        document.querySelector('#df-c1313ee8-9e74-4243-ba7d-99e9611f3516 button.colab-df-convert');\n",
              "      buttonEl.style.display =\n",
              "        google.colab.kernel.accessAllowed ? 'block' : 'none';\n",
              "\n",
              "      async function convertToInteractive(key) {\n",
              "        const element = document.querySelector('#df-c1313ee8-9e74-4243-ba7d-99e9611f3516');\n",
              "        const dataTable =\n",
              "          await google.colab.kernel.invokeFunction('convertToInteractive',\n",
              "                                                    [key], {});\n",
              "        if (!dataTable) return;\n",
              "\n",
              "        const docLinkHtml = 'Like what you see? Visit the ' +\n",
              "          '<a target=\"_blank\" href=https://colab.research.google.com/notebooks/data_table.ipynb>data table notebook</a>'\n",
              "          + ' to learn more about interactive tables.';\n",
              "        element.innerHTML = '';\n",
              "        dataTable['output_type'] = 'display_data';\n",
              "        await google.colab.output.renderOutput(dataTable, element);\n",
              "        const docLink = document.createElement('div');\n",
              "        docLink.innerHTML = docLinkHtml;\n",
              "        element.appendChild(docLink);\n",
              "      }\n",
              "    </script>\n",
              "  </div>\n",
              "\n",
              "\n",
              "<div id=\"df-4ebb2471-3ef3-4fa6-8bc0-795e820c91ed\">\n",
              "  <button class=\"colab-df-quickchart\" onclick=\"quickchart('df-4ebb2471-3ef3-4fa6-8bc0-795e820c91ed')\"\n",
              "            title=\"Suggest charts\"\n",
              "            style=\"display:none;\">\n",
              "\n",
              "<svg xmlns=\"http://www.w3.org/2000/svg\" height=\"24px\"viewBox=\"0 0 24 24\"\n",
              "     width=\"24px\">\n",
              "    <g>\n",
              "        <path d=\"M19 3H5c-1.1 0-2 .9-2 2v14c0 1.1.9 2 2 2h14c1.1 0 2-.9 2-2V5c0-1.1-.9-2-2-2zM9 17H7v-7h2v7zm4 0h-2V7h2v10zm4 0h-2v-4h2v4z\"/>\n",
              "    </g>\n",
              "</svg>\n",
              "  </button>\n",
              "\n",
              "<style>\n",
              "  .colab-df-quickchart {\n",
              "      --bg-color: #E8F0FE;\n",
              "      --fill-color: #1967D2;\n",
              "      --hover-bg-color: #E2EBFA;\n",
              "      --hover-fill-color: #174EA6;\n",
              "      --disabled-fill-color: #AAA;\n",
              "      --disabled-bg-color: #DDD;\n",
              "  }\n",
              "\n",
              "  [theme=dark] .colab-df-quickchart {\n",
              "      --bg-color: #3B4455;\n",
              "      --fill-color: #D2E3FC;\n",
              "      --hover-bg-color: #434B5C;\n",
              "      --hover-fill-color: #FFFFFF;\n",
              "      --disabled-bg-color: #3B4455;\n",
              "      --disabled-fill-color: #666;\n",
              "  }\n",
              "\n",
              "  .colab-df-quickchart {\n",
              "    background-color: var(--bg-color);\n",
              "    border: none;\n",
              "    border-radius: 50%;\n",
              "    cursor: pointer;\n",
              "    display: none;\n",
              "    fill: var(--fill-color);\n",
              "    height: 32px;\n",
              "    padding: 0;\n",
              "    width: 32px;\n",
              "  }\n",
              "\n",
              "  .colab-df-quickchart:hover {\n",
              "    background-color: var(--hover-bg-color);\n",
              "    box-shadow: 0 1px 2px rgba(60, 64, 67, 0.3), 0 1px 3px 1px rgba(60, 64, 67, 0.15);\n",
              "    fill: var(--button-hover-fill-color);\n",
              "  }\n",
              "\n",
              "  .colab-df-quickchart-complete:disabled,\n",
              "  .colab-df-quickchart-complete:disabled:hover {\n",
              "    background-color: var(--disabled-bg-color);\n",
              "    fill: var(--disabled-fill-color);\n",
              "    box-shadow: none;\n",
              "  }\n",
              "\n",
              "  .colab-df-spinner {\n",
              "    border: 2px solid var(--fill-color);\n",
              "    border-color: transparent;\n",
              "    border-bottom-color: var(--fill-color);\n",
              "    animation:\n",
              "      spin 1s steps(1) infinite;\n",
              "  }\n",
              "\n",
              "  @keyframes spin {\n",
              "    0% {\n",
              "      border-color: transparent;\n",
              "      border-bottom-color: var(--fill-color);\n",
              "      border-left-color: var(--fill-color);\n",
              "    }\n",
              "    20% {\n",
              "      border-color: transparent;\n",
              "      border-left-color: var(--fill-color);\n",
              "      border-top-color: var(--fill-color);\n",
              "    }\n",
              "    30% {\n",
              "      border-color: transparent;\n",
              "      border-left-color: var(--fill-color);\n",
              "      border-top-color: var(--fill-color);\n",
              "      border-right-color: var(--fill-color);\n",
              "    }\n",
              "    40% {\n",
              "      border-color: transparent;\n",
              "      border-right-color: var(--fill-color);\n",
              "      border-top-color: var(--fill-color);\n",
              "    }\n",
              "    60% {\n",
              "      border-color: transparent;\n",
              "      border-right-color: var(--fill-color);\n",
              "    }\n",
              "    80% {\n",
              "      border-color: transparent;\n",
              "      border-right-color: var(--fill-color);\n",
              "      border-bottom-color: var(--fill-color);\n",
              "    }\n",
              "    90% {\n",
              "      border-color: transparent;\n",
              "      border-bottom-color: var(--fill-color);\n",
              "    }\n",
              "  }\n",
              "</style>\n",
              "\n",
              "  <script>\n",
              "    async function quickchart(key) {\n",
              "      const quickchartButtonEl =\n",
              "        document.querySelector('#' + key + ' button');\n",
              "      quickchartButtonEl.disabled = true;  // To prevent multiple clicks.\n",
              "      quickchartButtonEl.classList.add('colab-df-spinner');\n",
              "      try {\n",
              "        const charts = await google.colab.kernel.invokeFunction(\n",
              "            'suggestCharts', [key], {});\n",
              "      } catch (error) {\n",
              "        console.error('Error during call to suggestCharts:', error);\n",
              "      }\n",
              "      quickchartButtonEl.classList.remove('colab-df-spinner');\n",
              "      quickchartButtonEl.classList.add('colab-df-quickchart-complete');\n",
              "    }\n",
              "    (() => {\n",
              "      let quickchartButtonEl =\n",
              "        document.querySelector('#df-4ebb2471-3ef3-4fa6-8bc0-795e820c91ed button');\n",
              "      quickchartButtonEl.style.display =\n",
              "        google.colab.kernel.accessAllowed ? 'block' : 'none';\n",
              "    })();\n",
              "  </script>\n",
              "</div>\n",
              "\n",
              "    </div>\n",
              "  </div>\n"
            ],
            "application/vnd.google.colaboratory.intrinsic+json": {
              "type": "dataframe",
              "variable_name": "data",
              "summary": "{\n  \"name\": \"data\",\n  \"rows\": 6,\n  \"fields\": [\n    {\n      \"column\": \"label\",\n      \"properties\": {\n        \"dtype\": \"number\",\n        \"std\": 1,\n        \"min\": 0,\n        \"max\": 5,\n        \"num_unique_values\": 5,\n        \"samples\": [\n          1,\n          5,\n          2\n        ],\n        \"semantic_type\": \"\",\n        \"description\": \"\"\n      }\n    }\n  ]\n}"
            }
          },
          "metadata": {},
          "execution_count": 11
        }
      ]
    },
    {
      "cell_type": "markdown",
      "source": [
        "#### Five last records of data"
      ],
      "metadata": {
        "id": "W5qfbu4moaRo"
      }
    },
    {
      "cell_type": "code",
      "source": [
        "data.tail()"
      ],
      "metadata": {
        "execution": {
          "iopub.status.busy": "2023-04-03T08:07:13.764636Z",
          "iopub.execute_input": "2023-04-03T08:07:13.764971Z",
          "iopub.status.idle": "2023-04-03T08:07:13.780465Z",
          "shell.execute_reply.started": "2023-04-03T08:07:13.764937Z",
          "shell.execute_reply": "2023-04-03T08:07:13.779237Z"
        },
        "trusted": true,
        "id": "XuRJKZHgoaRo",
        "outputId": "c335c319-d79d-4cc8-bcf9-9bacc840f420",
        "colab": {
          "base_uri": "https://localhost:8080/",
          "height": 206
        }
      },
      "execution_count": 12,
      "outputs": [
        {
          "output_type": "execute_result",
          "data": {
            "text/plain": [
              "   label\n",
              "1      1\n",
              "2      2\n",
              "3      3\n",
              "4      1\n",
              "5      5"
            ],
            "text/html": [
              "\n",
              "  <div id=\"df-e25ab368-66e1-4e47-844a-e1ab44a6ecbe\" class=\"colab-df-container\">\n",
              "    <div>\n",
              "<style scoped>\n",
              "    .dataframe tbody tr th:only-of-type {\n",
              "        vertical-align: middle;\n",
              "    }\n",
              "\n",
              "    .dataframe tbody tr th {\n",
              "        vertical-align: top;\n",
              "    }\n",
              "\n",
              "    .dataframe thead th {\n",
              "        text-align: right;\n",
              "    }\n",
              "</style>\n",
              "<table border=\"1\" class=\"dataframe\">\n",
              "  <thead>\n",
              "    <tr style=\"text-align: right;\">\n",
              "      <th></th>\n",
              "      <th>label</th>\n",
              "    </tr>\n",
              "  </thead>\n",
              "  <tbody>\n",
              "    <tr>\n",
              "      <th>1</th>\n",
              "      <td>1</td>\n",
              "    </tr>\n",
              "    <tr>\n",
              "      <th>2</th>\n",
              "      <td>2</td>\n",
              "    </tr>\n",
              "    <tr>\n",
              "      <th>3</th>\n",
              "      <td>3</td>\n",
              "    </tr>\n",
              "    <tr>\n",
              "      <th>4</th>\n",
              "      <td>1</td>\n",
              "    </tr>\n",
              "    <tr>\n",
              "      <th>5</th>\n",
              "      <td>5</td>\n",
              "    </tr>\n",
              "  </tbody>\n",
              "</table>\n",
              "</div>\n",
              "    <div class=\"colab-df-buttons\">\n",
              "\n",
              "  <div class=\"colab-df-container\">\n",
              "    <button class=\"colab-df-convert\" onclick=\"convertToInteractive('df-e25ab368-66e1-4e47-844a-e1ab44a6ecbe')\"\n",
              "            title=\"Convert this dataframe to an interactive table.\"\n",
              "            style=\"display:none;\">\n",
              "\n",
              "  <svg xmlns=\"http://www.w3.org/2000/svg\" height=\"24px\" viewBox=\"0 -960 960 960\">\n",
              "    <path d=\"M120-120v-720h720v720H120Zm60-500h600v-160H180v160Zm220 220h160v-160H400v160Zm0 220h160v-160H400v160ZM180-400h160v-160H180v160Zm440 0h160v-160H620v160ZM180-180h160v-160H180v160Zm440 0h160v-160H620v160Z\"/>\n",
              "  </svg>\n",
              "    </button>\n",
              "\n",
              "  <style>\n",
              "    .colab-df-container {\n",
              "      display:flex;\n",
              "      gap: 12px;\n",
              "    }\n",
              "\n",
              "    .colab-df-convert {\n",
              "      background-color: #E8F0FE;\n",
              "      border: none;\n",
              "      border-radius: 50%;\n",
              "      cursor: pointer;\n",
              "      display: none;\n",
              "      fill: #1967D2;\n",
              "      height: 32px;\n",
              "      padding: 0 0 0 0;\n",
              "      width: 32px;\n",
              "    }\n",
              "\n",
              "    .colab-df-convert:hover {\n",
              "      background-color: #E2EBFA;\n",
              "      box-shadow: 0px 1px 2px rgba(60, 64, 67, 0.3), 0px 1px 3px 1px rgba(60, 64, 67, 0.15);\n",
              "      fill: #174EA6;\n",
              "    }\n",
              "\n",
              "    .colab-df-buttons div {\n",
              "      margin-bottom: 4px;\n",
              "    }\n",
              "\n",
              "    [theme=dark] .colab-df-convert {\n",
              "      background-color: #3B4455;\n",
              "      fill: #D2E3FC;\n",
              "    }\n",
              "\n",
              "    [theme=dark] .colab-df-convert:hover {\n",
              "      background-color: #434B5C;\n",
              "      box-shadow: 0px 1px 3px 1px rgba(0, 0, 0, 0.15);\n",
              "      filter: drop-shadow(0px 1px 2px rgba(0, 0, 0, 0.3));\n",
              "      fill: #FFFFFF;\n",
              "    }\n",
              "  </style>\n",
              "\n",
              "    <script>\n",
              "      const buttonEl =\n",
              "        document.querySelector('#df-e25ab368-66e1-4e47-844a-e1ab44a6ecbe button.colab-df-convert');\n",
              "      buttonEl.style.display =\n",
              "        google.colab.kernel.accessAllowed ? 'block' : 'none';\n",
              "\n",
              "      async function convertToInteractive(key) {\n",
              "        const element = document.querySelector('#df-e25ab368-66e1-4e47-844a-e1ab44a6ecbe');\n",
              "        const dataTable =\n",
              "          await google.colab.kernel.invokeFunction('convertToInteractive',\n",
              "                                                    [key], {});\n",
              "        if (!dataTable) return;\n",
              "\n",
              "        const docLinkHtml = 'Like what you see? Visit the ' +\n",
              "          '<a target=\"_blank\" href=https://colab.research.google.com/notebooks/data_table.ipynb>data table notebook</a>'\n",
              "          + ' to learn more about interactive tables.';\n",
              "        element.innerHTML = '';\n",
              "        dataTable['output_type'] = 'display_data';\n",
              "        await google.colab.output.renderOutput(dataTable, element);\n",
              "        const docLink = document.createElement('div');\n",
              "        docLink.innerHTML = docLinkHtml;\n",
              "        element.appendChild(docLink);\n",
              "      }\n",
              "    </script>\n",
              "  </div>\n",
              "\n",
              "\n",
              "<div id=\"df-6b802831-9f59-44a1-be34-71207882c4b8\">\n",
              "  <button class=\"colab-df-quickchart\" onclick=\"quickchart('df-6b802831-9f59-44a1-be34-71207882c4b8')\"\n",
              "            title=\"Suggest charts\"\n",
              "            style=\"display:none;\">\n",
              "\n",
              "<svg xmlns=\"http://www.w3.org/2000/svg\" height=\"24px\"viewBox=\"0 0 24 24\"\n",
              "     width=\"24px\">\n",
              "    <g>\n",
              "        <path d=\"M19 3H5c-1.1 0-2 .9-2 2v14c0 1.1.9 2 2 2h14c1.1 0 2-.9 2-2V5c0-1.1-.9-2-2-2zM9 17H7v-7h2v7zm4 0h-2V7h2v10zm4 0h-2v-4h2v4z\"/>\n",
              "    </g>\n",
              "</svg>\n",
              "  </button>\n",
              "\n",
              "<style>\n",
              "  .colab-df-quickchart {\n",
              "      --bg-color: #E8F0FE;\n",
              "      --fill-color: #1967D2;\n",
              "      --hover-bg-color: #E2EBFA;\n",
              "      --hover-fill-color: #174EA6;\n",
              "      --disabled-fill-color: #AAA;\n",
              "      --disabled-bg-color: #DDD;\n",
              "  }\n",
              "\n",
              "  [theme=dark] .colab-df-quickchart {\n",
              "      --bg-color: #3B4455;\n",
              "      --fill-color: #D2E3FC;\n",
              "      --hover-bg-color: #434B5C;\n",
              "      --hover-fill-color: #FFFFFF;\n",
              "      --disabled-bg-color: #3B4455;\n",
              "      --disabled-fill-color: #666;\n",
              "  }\n",
              "\n",
              "  .colab-df-quickchart {\n",
              "    background-color: var(--bg-color);\n",
              "    border: none;\n",
              "    border-radius: 50%;\n",
              "    cursor: pointer;\n",
              "    display: none;\n",
              "    fill: var(--fill-color);\n",
              "    height: 32px;\n",
              "    padding: 0;\n",
              "    width: 32px;\n",
              "  }\n",
              "\n",
              "  .colab-df-quickchart:hover {\n",
              "    background-color: var(--hover-bg-color);\n",
              "    box-shadow: 0 1px 2px rgba(60, 64, 67, 0.3), 0 1px 3px 1px rgba(60, 64, 67, 0.15);\n",
              "    fill: var(--button-hover-fill-color);\n",
              "  }\n",
              "\n",
              "  .colab-df-quickchart-complete:disabled,\n",
              "  .colab-df-quickchart-complete:disabled:hover {\n",
              "    background-color: var(--disabled-bg-color);\n",
              "    fill: var(--disabled-fill-color);\n",
              "    box-shadow: none;\n",
              "  }\n",
              "\n",
              "  .colab-df-spinner {\n",
              "    border: 2px solid var(--fill-color);\n",
              "    border-color: transparent;\n",
              "    border-bottom-color: var(--fill-color);\n",
              "    animation:\n",
              "      spin 1s steps(1) infinite;\n",
              "  }\n",
              "\n",
              "  @keyframes spin {\n",
              "    0% {\n",
              "      border-color: transparent;\n",
              "      border-bottom-color: var(--fill-color);\n",
              "      border-left-color: var(--fill-color);\n",
              "    }\n",
              "    20% {\n",
              "      border-color: transparent;\n",
              "      border-left-color: var(--fill-color);\n",
              "      border-top-color: var(--fill-color);\n",
              "    }\n",
              "    30% {\n",
              "      border-color: transparent;\n",
              "      border-left-color: var(--fill-color);\n",
              "      border-top-color: var(--fill-color);\n",
              "      border-right-color: var(--fill-color);\n",
              "    }\n",
              "    40% {\n",
              "      border-color: transparent;\n",
              "      border-right-color: var(--fill-color);\n",
              "      border-top-color: var(--fill-color);\n",
              "    }\n",
              "    60% {\n",
              "      border-color: transparent;\n",
              "      border-right-color: var(--fill-color);\n",
              "    }\n",
              "    80% {\n",
              "      border-color: transparent;\n",
              "      border-right-color: var(--fill-color);\n",
              "      border-bottom-color: var(--fill-color);\n",
              "    }\n",
              "    90% {\n",
              "      border-color: transparent;\n",
              "      border-bottom-color: var(--fill-color);\n",
              "    }\n",
              "  }\n",
              "</style>\n",
              "\n",
              "  <script>\n",
              "    async function quickchart(key) {\n",
              "      const quickchartButtonEl =\n",
              "        document.querySelector('#' + key + ' button');\n",
              "      quickchartButtonEl.disabled = true;  // To prevent multiple clicks.\n",
              "      quickchartButtonEl.classList.add('colab-df-spinner');\n",
              "      try {\n",
              "        const charts = await google.colab.kernel.invokeFunction(\n",
              "            'suggestCharts', [key], {});\n",
              "      } catch (error) {\n",
              "        console.error('Error during call to suggestCharts:', error);\n",
              "      }\n",
              "      quickchartButtonEl.classList.remove('colab-df-spinner');\n",
              "      quickchartButtonEl.classList.add('colab-df-quickchart-complete');\n",
              "    }\n",
              "    (() => {\n",
              "      let quickchartButtonEl =\n",
              "        document.querySelector('#df-6b802831-9f59-44a1-be34-71207882c4b8 button');\n",
              "      quickchartButtonEl.style.display =\n",
              "        google.colab.kernel.accessAllowed ? 'block' : 'none';\n",
              "    })();\n",
              "  </script>\n",
              "</div>\n",
              "\n",
              "    </div>\n",
              "  </div>\n"
            ],
            "application/vnd.google.colaboratory.intrinsic+json": {
              "type": "dataframe",
              "summary": "{\n  \"name\": \"data\",\n  \"rows\": 5,\n  \"fields\": [\n    {\n      \"column\": \"label\",\n      \"properties\": {\n        \"dtype\": \"number\",\n        \"std\": 1,\n        \"min\": 1,\n        \"max\": 5,\n        \"num_unique_values\": 4,\n        \"samples\": [\n          2,\n          5,\n          1\n        ],\n        \"semantic_type\": \"\",\n        \"description\": \"\"\n      }\n    }\n  ]\n}"
            }
          },
          "metadata": {},
          "execution_count": 12
        }
      ]
    },
    {
      "cell_type": "markdown",
      "source": [
        "#### Coloumns/features in data"
      ],
      "metadata": {
        "id": "iGTSH0OqoaRo"
      }
    },
    {
      "cell_type": "code",
      "source": [
        "data.columns"
      ],
      "metadata": {
        "execution": {
          "iopub.status.busy": "2023-04-03T08:07:13.784219Z",
          "iopub.execute_input": "2023-04-03T08:07:13.784702Z",
          "iopub.status.idle": "2023-04-03T08:07:13.792982Z",
          "shell.execute_reply.started": "2023-04-03T08:07:13.784653Z",
          "shell.execute_reply": "2023-04-03T08:07:13.791936Z"
        },
        "trusted": true,
        "id": "kTDWWw2QoaRp",
        "outputId": "97f0313d-65f0-4584-d13b-24376c0d0fda",
        "colab": {
          "base_uri": "https://localhost:8080/"
        }
      },
      "execution_count": 13,
      "outputs": [
        {
          "output_type": "execute_result",
          "data": {
            "text/plain": [
              "Index(['label'], dtype='object')"
            ]
          },
          "metadata": {},
          "execution_count": 13
        }
      ]
    },
    {
      "cell_type": "markdown",
      "source": [
        "#### Length of data"
      ],
      "metadata": {
        "id": "DqbjLYdpoaRp"
      }
    },
    {
      "cell_type": "code",
      "source": [
        "print('lenght of data is', len(data))"
      ],
      "metadata": {
        "execution": {
          "iopub.status.busy": "2023-04-03T08:07:13.796678Z",
          "iopub.execute_input": "2023-04-03T08:07:13.797052Z",
          "iopub.status.idle": "2023-04-03T08:07:13.803593Z",
          "shell.execute_reply.started": "2023-04-03T08:07:13.797017Z",
          "shell.execute_reply": "2023-04-03T08:07:13.802494Z"
        },
        "trusted": true,
        "id": "VQw740TJoaRp",
        "outputId": "42dbf39d-9fc0-48d3-c728-fb0b26db9f83",
        "colab": {
          "base_uri": "https://localhost:8080/"
        }
      },
      "execution_count": 14,
      "outputs": [
        {
          "output_type": "stream",
          "name": "stdout",
          "text": [
            "lenght of data is 6\n"
          ]
        }
      ]
    },
    {
      "cell_type": "markdown",
      "source": [
        "#### Shape of data"
      ],
      "metadata": {
        "id": "LGov7XE9oaRp"
      }
    },
    {
      "cell_type": "code",
      "source": [
        "data.shape"
      ],
      "metadata": {
        "execution": {
          "iopub.status.busy": "2023-04-03T08:07:13.805374Z",
          "iopub.execute_input": "2023-04-03T08:07:13.805803Z",
          "iopub.status.idle": "2023-04-03T08:07:13.814158Z",
          "shell.execute_reply.started": "2023-04-03T08:07:13.805768Z",
          "shell.execute_reply": "2023-04-03T08:07:13.813064Z"
        },
        "trusted": true,
        "id": "6YOXPz_foaRp",
        "outputId": "4abfa3b1-b0b8-434b-c25f-9ead83123c4f",
        "colab": {
          "base_uri": "https://localhost:8080/"
        }
      },
      "execution_count": 15,
      "outputs": [
        {
          "output_type": "execute_result",
          "data": {
            "text/plain": [
              "(6, 1)"
            ]
          },
          "metadata": {},
          "execution_count": 15
        }
      ]
    },
    {
      "cell_type": "markdown",
      "source": [
        "#### Data information"
      ],
      "metadata": {
        "id": "hQcD6nTkoaRp"
      }
    },
    {
      "cell_type": "code",
      "source": [
        "data.info()"
      ],
      "metadata": {
        "execution": {
          "iopub.status.busy": "2023-04-03T08:07:13.815243Z",
          "iopub.execute_input": "2023-04-03T08:07:13.815585Z",
          "iopub.status.idle": "2023-04-03T08:07:14.392341Z",
          "shell.execute_reply.started": "2023-04-03T08:07:13.815553Z",
          "shell.execute_reply": "2023-04-03T08:07:14.391313Z"
        },
        "trusted": true,
        "id": "vfheV4r8oaRp",
        "outputId": "de584337-0a0e-4470-fc27-980f22c4caf5",
        "colab": {
          "base_uri": "https://localhost:8080/"
        }
      },
      "execution_count": 16,
      "outputs": [
        {
          "output_type": "stream",
          "name": "stdout",
          "text": [
            "<class 'pandas.core.frame.DataFrame'>\n",
            "RangeIndex: 6 entries, 0 to 5\n",
            "Data columns (total 1 columns):\n",
            " #   Column  Non-Null Count  Dtype\n",
            "---  ------  --------------  -----\n",
            " 0   label   6 non-null      int64\n",
            "dtypes: int64(1)\n",
            "memory usage: 176.0 bytes\n"
          ]
        }
      ]
    },
    {
      "cell_type": "markdown",
      "source": [
        "#### Data types of all coloumns"
      ],
      "metadata": {
        "id": "0FbIDCuzoaRp"
      }
    },
    {
      "cell_type": "code",
      "source": [
        "data.dtypes"
      ],
      "metadata": {
        "execution": {
          "iopub.status.busy": "2023-04-03T08:07:14.393621Z",
          "iopub.execute_input": "2023-04-03T08:07:14.393912Z",
          "iopub.status.idle": "2023-04-03T08:07:14.402041Z",
          "shell.execute_reply.started": "2023-04-03T08:07:14.393884Z",
          "shell.execute_reply": "2023-04-03T08:07:14.400877Z"
        },
        "trusted": true,
        "id": "PXwsl7OQoaRp",
        "outputId": "edc7cf19-16e4-4f07-9eb4-2314cebdd9e5",
        "colab": {
          "base_uri": "https://localhost:8080/"
        }
      },
      "execution_count": 17,
      "outputs": [
        {
          "output_type": "execute_result",
          "data": {
            "text/plain": [
              "label    int64\n",
              "dtype: object"
            ]
          },
          "metadata": {},
          "execution_count": 17
        }
      ]
    },
    {
      "cell_type": "markdown",
      "source": [
        "#### Checking Null values"
      ],
      "metadata": {
        "id": "-LnhwTUBoaRp"
      }
    },
    {
      "cell_type": "code",
      "source": [
        "import numpy as np\n",
        "!pip show numpy\n",
        "!pip install numpy\n",
        "import numpy as np\n",
        "np.sum(data.isnull().any(axis=1))"
      ],
      "metadata": {
        "scrolled": true,
        "execution": {
          "iopub.status.busy": "2023-04-03T08:07:14.403805Z",
          "iopub.execute_input": "2023-04-03T08:07:14.404144Z",
          "iopub.status.idle": "2023-04-03T08:07:14.972744Z",
          "shell.execute_reply.started": "2023-04-03T08:07:14.40411Z",
          "shell.execute_reply": "2023-04-03T08:07:14.971602Z"
        },
        "trusted": true,
        "id": "aPZ4qSSpoaRp",
        "outputId": "079f6b6f-eae0-4d04-e6ec-8f7f47468381",
        "colab": {
          "base_uri": "https://localhost:8080/"
        }
      },
      "execution_count": 19,
      "outputs": [
        {
          "output_type": "stream",
          "name": "stdout",
          "text": [
            "Name: numpy\n",
            "Version: 1.25.2\n",
            "Summary: Fundamental package for array computing in Python\n",
            "Home-page: https://www.numpy.org\n",
            "Author: Travis E. Oliphant et al.\n",
            "Author-email: \n",
            "License: BSD-3-Clause\n",
            "Location: /usr/local/lib/python3.10/dist-packages\n",
            "Requires: \n",
            "Required-by: albumentations, altair, arviz, astropy, autograd, blis, bokeh, bqplot, chex, cmdstanpy, contourpy, cufflinks, cupy-cuda12x, cvxpy, datascience, db-dtypes, dopamine-rl, ecos, flax, folium, geemap, gensim, gym, h5py, holoviews, hyperopt, ibis-framework, imageio, imbalanced-learn, imgaug, jax, jaxlib, librosa, lightgbm, matplotlib, matplotlib-venn, missingno, mizani, ml-dtypes, mlxtend, moviepy, music21, nibabel, numba, numexpr, opencv-contrib-python, opencv-python, opencv-python-headless, opt-einsum, optax, orbax-checkpoint, osqp, pandas, pandas-gbq, patsy, plotnine, prophet, pyarrow, pycocotools, pyerfa, pymc, pytensor, python-louvain, PyWavelets, qdldl, qudida, scikit-image, scikit-learn, scipy, scs, seaborn, shapely, sklearn-pandas, soxr, spacy, stanio, statsmodels, tables, tensorboard, tensorflow, tensorflow-datasets, tensorflow-hub, tensorflow-probability, tensorstore, thinc, tifffile, torchtext, torchvision, transformers, wordcloud, xarray, xarray-einstats, xgboost, yellowbrick, yfinance\n",
            "Requirement already satisfied: numpy in /usr/local/lib/python3.10/dist-packages (1.25.2)\n"
          ]
        },
        {
          "output_type": "execute_result",
          "data": {
            "text/plain": [
              "0"
            ]
          },
          "metadata": {},
          "execution_count": 19
        }
      ]
    },
    {
      "cell_type": "markdown",
      "source": [
        "#### Rows and columns in the dataset"
      ],
      "metadata": {
        "id": "czcoJ4DvoaRp"
      }
    },
    {
      "cell_type": "code",
      "source": [
        "print('Count of columns in the data is:  ', len(data.columns))"
      ],
      "metadata": {
        "execution": {
          "iopub.status.busy": "2023-04-03T08:07:14.974572Z",
          "iopub.execute_input": "2023-04-03T08:07:14.974909Z",
          "iopub.status.idle": "2023-04-03T08:07:14.981879Z",
          "shell.execute_reply.started": "2023-04-03T08:07:14.974875Z",
          "shell.execute_reply": "2023-04-03T08:07:14.980766Z"
        },
        "trusted": true,
        "id": "HLjDHEU4oaRp",
        "outputId": "7569237a-d020-4806-96b8-280a64c2b3d3",
        "colab": {
          "base_uri": "https://localhost:8080/"
        }
      },
      "execution_count": 20,
      "outputs": [
        {
          "output_type": "stream",
          "name": "stdout",
          "text": [
            "Count of columns in the data is:   1\n"
          ]
        }
      ]
    },
    {
      "cell_type": "code",
      "source": [
        "print('Count of rows in the data is:  ', len(data))"
      ],
      "metadata": {
        "execution": {
          "iopub.status.busy": "2023-04-03T08:07:14.983366Z",
          "iopub.execute_input": "2023-04-03T08:07:14.983888Z",
          "iopub.status.idle": "2023-04-03T08:07:14.993506Z",
          "shell.execute_reply.started": "2023-04-03T08:07:14.983832Z",
          "shell.execute_reply": "2023-04-03T08:07:14.992527Z"
        },
        "trusted": true,
        "id": "2NSn2jS0oaRp",
        "outputId": "8f1fd7ea-b7ea-4afd-d83e-2eaa4090125f",
        "colab": {
          "base_uri": "https://localhost:8080/"
        }
      },
      "execution_count": 21,
      "outputs": [
        {
          "output_type": "stream",
          "name": "stdout",
          "text": [
            "Count of rows in the data is:   6\n"
          ]
        }
      ]
    },
    {
      "cell_type": "markdown",
      "source": [
        "#### Selecting the text and label coloumn"
      ],
      "metadata": {
        "id": "9tBXhKaYoaRq"
      }
    },
    {
      "cell_type": "code",
      "source": [
        "\n",
        "import pandas as pd\n",
        "data.head()\n",
        "data.columns\n",
        "data = data[['text', 'label']]"
      ],
      "metadata": {
        "execution": {
          "iopub.status.busy": "2023-04-03T08:07:14.995782Z",
          "iopub.execute_input": "2023-04-03T08:07:14.996112Z",
          "iopub.status.idle": "2023-04-03T08:07:15.040576Z",
          "shell.execute_reply.started": "2023-04-03T08:07:14.99608Z",
          "shell.execute_reply": "2023-04-03T08:07:15.039479Z"
        },
        "trusted": true,
        "id": "AXaAhAzCoaRq",
        "outputId": "ce508089-9a54-4be6-de5b-8566b1bdc44a",
        "colab": {
          "base_uri": "https://localhost:8080/",
          "height": 456
        }
      },
      "execution_count": 24,
      "outputs": [
        {
          "output_type": "stream",
          "name": "stdout",
          "text": [
            "Requirement already satisfied: pandas in /usr/local/lib/python3.10/dist-packages (1.5.3)\n",
            "Requirement already satisfied: python-dateutil>=2.8.1 in /usr/local/lib/python3.10/dist-packages (from pandas) (2.8.2)\n",
            "Requirement already satisfied: pytz>=2020.1 in /usr/local/lib/python3.10/dist-packages (from pandas) (2023.4)\n",
            "Requirement already satisfied: numpy>=1.21.0 in /usr/local/lib/python3.10/dist-packages (from pandas) (1.25.2)\n",
            "Requirement already satisfied: six>=1.5 in /usr/local/lib/python3.10/dist-packages (from python-dateutil>=2.8.1->pandas) (1.16.0)\n"
          ]
        },
        {
          "output_type": "error",
          "ename": "KeyError",
          "evalue": "\"['text'] not in index\"",
          "traceback": [
            "\u001b[0;31m---------------------------------------------------------------------------\u001b[0m",
            "\u001b[0;31mKeyError\u001b[0m                                  Traceback (most recent call last)",
            "\u001b[0;32m<ipython-input-24-b88949ad5689>\u001b[0m in \u001b[0;36m<cell line: 5>\u001b[0;34m()\u001b[0m\n\u001b[1;32m      3\u001b[0m \u001b[0mdata\u001b[0m\u001b[0;34m.\u001b[0m\u001b[0mhead\u001b[0m\u001b[0;34m(\u001b[0m\u001b[0;34m)\u001b[0m\u001b[0;34m\u001b[0m\u001b[0;34m\u001b[0m\u001b[0m\n\u001b[1;32m      4\u001b[0m \u001b[0mdata\u001b[0m\u001b[0;34m.\u001b[0m\u001b[0mcolumns\u001b[0m\u001b[0;34m\u001b[0m\u001b[0;34m\u001b[0m\u001b[0m\n\u001b[0;32m----> 5\u001b[0;31m \u001b[0mdata\u001b[0m \u001b[0;34m=\u001b[0m \u001b[0mdata\u001b[0m\u001b[0;34m[\u001b[0m\u001b[0;34m[\u001b[0m\u001b[0;34m'text'\u001b[0m\u001b[0;34m,\u001b[0m \u001b[0;34m'label'\u001b[0m\u001b[0;34m]\u001b[0m\u001b[0;34m]\u001b[0m\u001b[0;34m\u001b[0m\u001b[0;34m\u001b[0m\u001b[0m\n\u001b[0m",
            "\u001b[0;32m/usr/local/lib/python3.10/dist-packages/pandas/core/frame.py\u001b[0m in \u001b[0;36m__getitem__\u001b[0;34m(self, key)\u001b[0m\n\u001b[1;32m   3811\u001b[0m             \u001b[0;32mif\u001b[0m \u001b[0mis_iterator\u001b[0m\u001b[0;34m(\u001b[0m\u001b[0mkey\u001b[0m\u001b[0;34m)\u001b[0m\u001b[0;34m:\u001b[0m\u001b[0;34m\u001b[0m\u001b[0;34m\u001b[0m\u001b[0m\n\u001b[1;32m   3812\u001b[0m                 \u001b[0mkey\u001b[0m \u001b[0;34m=\u001b[0m \u001b[0mlist\u001b[0m\u001b[0;34m(\u001b[0m\u001b[0mkey\u001b[0m\u001b[0;34m)\u001b[0m\u001b[0;34m\u001b[0m\u001b[0;34m\u001b[0m\u001b[0m\n\u001b[0;32m-> 3813\u001b[0;31m             \u001b[0mindexer\u001b[0m \u001b[0;34m=\u001b[0m \u001b[0mself\u001b[0m\u001b[0;34m.\u001b[0m\u001b[0mcolumns\u001b[0m\u001b[0;34m.\u001b[0m\u001b[0m_get_indexer_strict\u001b[0m\u001b[0;34m(\u001b[0m\u001b[0mkey\u001b[0m\u001b[0;34m,\u001b[0m \u001b[0;34m\"columns\"\u001b[0m\u001b[0;34m)\u001b[0m\u001b[0;34m[\u001b[0m\u001b[0;36m1\u001b[0m\u001b[0;34m]\u001b[0m\u001b[0;34m\u001b[0m\u001b[0;34m\u001b[0m\u001b[0m\n\u001b[0m\u001b[1;32m   3814\u001b[0m \u001b[0;34m\u001b[0m\u001b[0m\n\u001b[1;32m   3815\u001b[0m         \u001b[0;31m# take() does not accept boolean indexers\u001b[0m\u001b[0;34m\u001b[0m\u001b[0;34m\u001b[0m\u001b[0m\n",
            "\u001b[0;32m/usr/local/lib/python3.10/dist-packages/pandas/core/indexes/base.py\u001b[0m in \u001b[0;36m_get_indexer_strict\u001b[0;34m(self, key, axis_name)\u001b[0m\n\u001b[1;32m   6068\u001b[0m             \u001b[0mkeyarr\u001b[0m\u001b[0;34m,\u001b[0m \u001b[0mindexer\u001b[0m\u001b[0;34m,\u001b[0m \u001b[0mnew_indexer\u001b[0m \u001b[0;34m=\u001b[0m \u001b[0mself\u001b[0m\u001b[0;34m.\u001b[0m\u001b[0m_reindex_non_unique\u001b[0m\u001b[0;34m(\u001b[0m\u001b[0mkeyarr\u001b[0m\u001b[0;34m)\u001b[0m\u001b[0;34m\u001b[0m\u001b[0;34m\u001b[0m\u001b[0m\n\u001b[1;32m   6069\u001b[0m \u001b[0;34m\u001b[0m\u001b[0m\n\u001b[0;32m-> 6070\u001b[0;31m         \u001b[0mself\u001b[0m\u001b[0;34m.\u001b[0m\u001b[0m_raise_if_missing\u001b[0m\u001b[0;34m(\u001b[0m\u001b[0mkeyarr\u001b[0m\u001b[0;34m,\u001b[0m \u001b[0mindexer\u001b[0m\u001b[0;34m,\u001b[0m \u001b[0maxis_name\u001b[0m\u001b[0;34m)\u001b[0m\u001b[0;34m\u001b[0m\u001b[0;34m\u001b[0m\u001b[0m\n\u001b[0m\u001b[1;32m   6071\u001b[0m \u001b[0;34m\u001b[0m\u001b[0m\n\u001b[1;32m   6072\u001b[0m         \u001b[0mkeyarr\u001b[0m \u001b[0;34m=\u001b[0m \u001b[0mself\u001b[0m\u001b[0;34m.\u001b[0m\u001b[0mtake\u001b[0m\u001b[0;34m(\u001b[0m\u001b[0mindexer\u001b[0m\u001b[0;34m)\u001b[0m\u001b[0;34m\u001b[0m\u001b[0;34m\u001b[0m\u001b[0m\n",
            "\u001b[0;32m/usr/local/lib/python3.10/dist-packages/pandas/core/indexes/base.py\u001b[0m in \u001b[0;36m_raise_if_missing\u001b[0;34m(self, key, indexer, axis_name)\u001b[0m\n\u001b[1;32m   6131\u001b[0m \u001b[0;34m\u001b[0m\u001b[0m\n\u001b[1;32m   6132\u001b[0m             \u001b[0mnot_found\u001b[0m \u001b[0;34m=\u001b[0m \u001b[0mlist\u001b[0m\u001b[0;34m(\u001b[0m\u001b[0mensure_index\u001b[0m\u001b[0;34m(\u001b[0m\u001b[0mkey\u001b[0m\u001b[0;34m)\u001b[0m\u001b[0;34m[\u001b[0m\u001b[0mmissing_mask\u001b[0m\u001b[0;34m.\u001b[0m\u001b[0mnonzero\u001b[0m\u001b[0;34m(\u001b[0m\u001b[0;34m)\u001b[0m\u001b[0;34m[\u001b[0m\u001b[0;36m0\u001b[0m\u001b[0;34m]\u001b[0m\u001b[0;34m]\u001b[0m\u001b[0;34m.\u001b[0m\u001b[0munique\u001b[0m\u001b[0;34m(\u001b[0m\u001b[0;34m)\u001b[0m\u001b[0;34m)\u001b[0m\u001b[0;34m\u001b[0m\u001b[0;34m\u001b[0m\u001b[0m\n\u001b[0;32m-> 6133\u001b[0;31m             \u001b[0;32mraise\u001b[0m \u001b[0mKeyError\u001b[0m\u001b[0;34m(\u001b[0m\u001b[0;34mf\"{not_found} not in index\"\u001b[0m\u001b[0;34m)\u001b[0m\u001b[0;34m\u001b[0m\u001b[0;34m\u001b[0m\u001b[0m\n\u001b[0m\u001b[1;32m   6134\u001b[0m \u001b[0;34m\u001b[0m\u001b[0m\n\u001b[1;32m   6135\u001b[0m     \u001b[0;34m@\u001b[0m\u001b[0moverload\u001b[0m\u001b[0;34m\u001b[0m\u001b[0;34m\u001b[0m\u001b[0m\n",
            "\u001b[0;31mKeyError\u001b[0m: \"['text'] not in index\""
          ]
        }
      ]
    },
    {
      "cell_type": "markdown",
      "source": [
        "#### Assigning 1 to Positive sentment 4"
      ],
      "metadata": {
        "id": "Ur-8HljDoaRq"
      }
    },
    {
      "cell_type": "code",
      "source": [
        "import pandas as pd\n",
        "data = pd.DataFrame({'label': [0, 1, 2, 3, 4, 5]})\n",
        "data['label'][data['label']==4]=1\n",
        "print(data)"
      ],
      "metadata": {
        "execution": {
          "iopub.status.busy": "2023-04-03T08:07:15.041931Z",
          "iopub.execute_input": "2023-04-03T08:07:15.042427Z",
          "iopub.status.idle": "2023-04-03T08:07:15.066103Z",
          "shell.execute_reply.started": "2023-04-03T08:07:15.04239Z",
          "shell.execute_reply": "2023-04-03T08:07:15.065109Z"
        },
        "trusted": true,
        "id": "C-H3USLCoaRq",
        "outputId": "038c1a3d-5a59-452f-ab49-531d13465a2f",
        "colab": {
          "base_uri": "https://localhost:8080/"
        }
      },
      "execution_count": 2,
      "outputs": [
        {
          "output_type": "stream",
          "name": "stdout",
          "text": [
            "   label\n",
            "0      0\n",
            "1      1\n",
            "2      2\n",
            "3      3\n",
            "4      1\n",
            "5      5\n"
          ]
        }
      ]
    },
    {
      "cell_type": "markdown",
      "source": [
        "#### Separating positive and negative tweets"
      ],
      "metadata": {
        "id": "uY56iMF_oaRq"
      }
    },
    {
      "cell_type": "code",
      "source": [
        "data_pos = data[data['label'] == 1]\n",
        "data_neg = data[data['label'] == 0]"
      ],
      "metadata": {
        "execution": {
          "iopub.status.busy": "2023-04-03T08:07:15.067486Z",
          "iopub.execute_input": "2023-04-03T08:07:15.067842Z",
          "iopub.status.idle": "2023-04-03T08:07:15.168447Z",
          "shell.execute_reply.started": "2023-04-03T08:07:15.067809Z",
          "shell.execute_reply": "2023-04-03T08:07:15.167498Z"
        },
        "trusted": true,
        "id": "08XMetFloaRq"
      },
      "execution_count": 25,
      "outputs": []
    },
    {
      "cell_type": "markdown",
      "source": [
        "#### taking one fourth data so we can run on our machine easily"
      ],
      "metadata": {
        "id": "cULhzqbhoaRq"
      }
    },
    {
      "cell_type": "code",
      "source": [
        "data_pos = data_pos.iloc[:int(20000)]\n",
        "data_neg = data_neg.iloc[:int(20000)]"
      ],
      "metadata": {
        "execution": {
          "iopub.status.busy": "2023-04-03T08:07:15.169595Z",
          "iopub.execute_input": "2023-04-03T08:07:15.169896Z",
          "iopub.status.idle": "2023-04-03T08:07:15.175035Z",
          "shell.execute_reply.started": "2023-04-03T08:07:15.169867Z",
          "shell.execute_reply": "2023-04-03T08:07:15.174154Z"
        },
        "trusted": true,
        "id": "oOItrM3goaRq"
      },
      "execution_count": 26,
      "outputs": []
    },
    {
      "cell_type": "markdown",
      "source": [
        "#### Combining positive and negative tweets"
      ],
      "metadata": {
        "id": "hx-ByHZWoaRq"
      }
    },
    {
      "cell_type": "code",
      "source": [
        "data = pd.concat([data_pos, data_neg])"
      ],
      "metadata": {
        "execution": {
          "iopub.status.busy": "2023-04-03T08:07:15.176355Z",
          "iopub.execute_input": "2023-04-03T08:07:15.176637Z",
          "iopub.status.idle": "2023-04-03T08:07:15.206969Z",
          "shell.execute_reply.started": "2023-04-03T08:07:15.176609Z",
          "shell.execute_reply": "2023-04-03T08:07:15.205999Z"
        },
        "trusted": true,
        "id": "-oABRPXuoaRq"
      },
      "execution_count": 27,
      "outputs": []
    },
    {
      "cell_type": "markdown",
      "source": [],
      "metadata": {
        "id": "aAarMBhroaRq"
      }
    },
    {
      "cell_type": "code",
      "source": [
        "data.info()\n",
        "'text' in data.columns\n",
        "data['text'] = '...'"
      ],
      "metadata": {
        "execution": {
          "iopub.status.busy": "2023-04-03T08:07:15.208452Z",
          "iopub.execute_input": "2023-04-03T08:07:15.208755Z",
          "iopub.status.idle": "2023-04-03T08:07:15.243452Z",
          "shell.execute_reply.started": "2023-04-03T08:07:15.208726Z",
          "shell.execute_reply": "2023-04-03T08:07:15.242469Z"
        },
        "trusted": true,
        "id": "Jh-ZzjK9oaRr",
        "outputId": "400ade85-fbe3-4ea0-9c6e-f401b8e2b29a",
        "colab": {
          "base_uri": "https://localhost:8080/"
        }
      },
      "execution_count": 38,
      "outputs": [
        {
          "output_type": "stream",
          "name": "stdout",
          "text": [
            "<class 'pandas.core.frame.DataFrame'>\n",
            "Int64Index: 3 entries, 1 to 0\n",
            "Data columns (total 2 columns):\n",
            " #   Column  Non-Null Count  Dtype \n",
            "---  ------  --------------  ----- \n",
            " 0   label   3 non-null      int64 \n",
            " 1   text    3 non-null      object\n",
            "dtypes: int64(1), object(1)\n",
            "memory usage: 72.0+ bytes\n"
          ]
        }
      ]
    },
    {
      "cell_type": "code",
      "source": [
        "data.head()\n",
        "'text' in data.columns\n",
        "data['text'] = \"\"\n",
        "data['text'].tail()"
      ],
      "metadata": {
        "execution": {
          "iopub.status.busy": "2023-04-03T08:07:15.245207Z",
          "iopub.execute_input": "2023-04-03T08:07:15.245653Z",
          "iopub.status.idle": "2023-04-03T08:07:15.256487Z",
          "shell.execute_reply.started": "2023-04-03T08:07:15.245604Z",
          "shell.execute_reply": "2023-04-03T08:07:15.255624Z"
        },
        "trusted": true,
        "id": "8cZo5r_5oaRr",
        "outputId": "9a124357-fc75-43e1-8666-df7e2c5b2512",
        "colab": {
          "base_uri": "https://localhost:8080/"
        }
      },
      "execution_count": 37,
      "outputs": [
        {
          "output_type": "execute_result",
          "data": {
            "text/plain": [
              "1    \n",
              "4    \n",
              "0    \n",
              "Name: text, dtype: object"
            ]
          },
          "metadata": {},
          "execution_count": 37
        }
      ]
    },
    {
      "cell_type": "markdown",
      "source": [
        "#### Cleaning and removing Stop words of english"
      ],
      "metadata": {
        "id": "dMHe83c7oaRr"
      }
    },
    {
      "cell_type": "code",
      "source": [
        "!pip install nltk\n",
        "import nltk\n",
        "nltk.download('stopwords')\n",
        "stopwords_list = stopwords.words('english')\n",
        "print(stopwords_list)\n"
      ],
      "metadata": {
        "execution": {
          "iopub.status.busy": "2023-04-03T08:07:15.258042Z",
          "iopub.execute_input": "2023-04-03T08:07:15.258676Z",
          "iopub.status.idle": "2023-04-03T08:07:15.270584Z",
          "shell.execute_reply.started": "2023-04-03T08:07:15.25864Z",
          "shell.execute_reply": "2023-04-03T08:07:15.269641Z"
        },
        "trusted": true,
        "id": "x1t8X0RjoaRr",
        "outputId": "c4e7e539-0c48-40d0-eaca-d4ea88270945",
        "colab": {
          "base_uri": "https://localhost:8080/"
        }
      },
      "execution_count": 36,
      "outputs": [
        {
          "output_type": "stream",
          "name": "stdout",
          "text": [
            "Requirement already satisfied: nltk in /usr/local/lib/python3.10/dist-packages (3.8.1)\n",
            "Requirement already satisfied: click in /usr/local/lib/python3.10/dist-packages (from nltk) (8.1.7)\n",
            "Requirement already satisfied: joblib in /usr/local/lib/python3.10/dist-packages (from nltk) (1.3.2)\n",
            "Requirement already satisfied: regex>=2021.8.3 in /usr/local/lib/python3.10/dist-packages (from nltk) (2023.12.25)\n",
            "Requirement already satisfied: tqdm in /usr/local/lib/python3.10/dist-packages (from nltk) (4.66.2)\n",
            "['i', 'me', 'my', 'myself', 'we', 'our', 'ours', 'ourselves', 'you', \"you're\", \"you've\", \"you'll\", \"you'd\", 'your', 'yours', 'yourself', 'yourselves', 'he', 'him', 'his', 'himself', 'she', \"she's\", 'her', 'hers', 'herself', 'it', \"it's\", 'its', 'itself', 'they', 'them', 'their', 'theirs', 'themselves', 'what', 'which', 'who', 'whom', 'this', 'that', \"that'll\", 'these', 'those', 'am', 'is', 'are', 'was', 'were', 'be', 'been', 'being', 'have', 'has', 'had', 'having', 'do', 'does', 'did', 'doing', 'a', 'an', 'the', 'and', 'but', 'if', 'or', 'because', 'as', 'until', 'while', 'of', 'at', 'by', 'for', 'with', 'about', 'against', 'between', 'into', 'through', 'during', 'before', 'after', 'above', 'below', 'to', 'from', 'up', 'down', 'in', 'out', 'on', 'off', 'over', 'under', 'again', 'further', 'then', 'once', 'here', 'there', 'when', 'where', 'why', 'how', 'all', 'any', 'both', 'each', 'few', 'more', 'most', 'other', 'some', 'such', 'no', 'nor', 'not', 'only', 'own', 'same', 'so', 'than', 'too', 'very', 's', 't', 'can', 'will', 'just', 'don', \"don't\", 'should', \"should've\", 'now', 'd', 'll', 'm', 'o', 're', 've', 'y', 'ain', 'aren', \"aren't\", 'couldn', \"couldn't\", 'didn', \"didn't\", 'doesn', \"doesn't\", 'hadn', \"hadn't\", 'hasn', \"hasn't\", 'haven', \"haven't\", 'isn', \"isn't\", 'ma', 'mightn', \"mightn't\", 'mustn', \"mustn't\", 'needn', \"needn't\", 'shan', \"shan't\", 'shouldn', \"shouldn't\", 'wasn', \"wasn't\", 'weren', \"weren't\", 'won', \"won't\", 'wouldn', \"wouldn't\"]\n"
          ]
        },
        {
          "output_type": "stream",
          "name": "stderr",
          "text": [
            "[nltk_data] Downloading package stopwords to /root/nltk_data...\n",
            "[nltk_data]   Unzipping corpora/stopwords.zip.\n"
          ]
        }
      ]
    },
    {
      "cell_type": "code",
      "source": [
        "!pip install nltk\n",
        "import nltk\n",
        "nltk.download('stopwords')\n",
        "\n",
        "from nltk.corpus import stopwords\n",
        "\", \".join(stopwords.words('english'))"
      ],
      "metadata": {
        "execution": {
          "iopub.status.busy": "2023-04-03T08:07:15.272091Z",
          "iopub.execute_input": "2023-04-03T08:07:15.273049Z",
          "iopub.status.idle": "2023-04-03T08:07:15.28871Z",
          "shell.execute_reply.started": "2023-04-03T08:07:15.272988Z",
          "shell.execute_reply": "2023-04-03T08:07:15.287079Z"
        },
        "trusted": true,
        "id": "Hkbc3NzaoaRr",
        "outputId": "674651a8-f62b-4a8a-9c64-dca42e4cb7c5",
        "colab": {
          "base_uri": "https://localhost:8080/",
          "height": 359
        }
      },
      "execution_count": 39,
      "outputs": [
        {
          "output_type": "stream",
          "name": "stdout",
          "text": [
            "Requirement already satisfied: nltk in /usr/local/lib/python3.10/dist-packages (3.8.1)\n",
            "Requirement already satisfied: click in /usr/local/lib/python3.10/dist-packages (from nltk) (8.1.7)\n",
            "Requirement already satisfied: joblib in /usr/local/lib/python3.10/dist-packages (from nltk) (1.3.2)\n",
            "Requirement already satisfied: regex>=2021.8.3 in /usr/local/lib/python3.10/dist-packages (from nltk) (2023.12.25)\n",
            "Requirement already satisfied: tqdm in /usr/local/lib/python3.10/dist-packages (from nltk) (4.66.2)\n"
          ]
        },
        {
          "output_type": "stream",
          "name": "stderr",
          "text": [
            "[nltk_data] Downloading package stopwords to /root/nltk_data...\n",
            "[nltk_data]   Package stopwords is already up-to-date!\n"
          ]
        },
        {
          "output_type": "execute_result",
          "data": {
            "text/plain": [
              "\"i, me, my, myself, we, our, ours, ourselves, you, you're, you've, you'll, you'd, your, yours, yourself, yourselves, he, him, his, himself, she, she's, her, hers, herself, it, it's, its, itself, they, them, their, theirs, themselves, what, which, who, whom, this, that, that'll, these, those, am, is, are, was, were, be, been, being, have, has, had, having, do, does, did, doing, a, an, the, and, but, if, or, because, as, until, while, of, at, by, for, with, about, against, between, into, through, during, before, after, above, below, to, from, up, down, in, out, on, off, over, under, again, further, then, once, here, there, when, where, why, how, all, any, both, each, few, more, most, other, some, such, no, nor, not, only, own, same, so, than, too, very, s, t, can, will, just, don, don't, should, should've, now, d, ll, m, o, re, ve, y, ain, aren, aren't, couldn, couldn't, didn, didn't, doesn, doesn't, hadn, hadn't, hasn, hasn't, haven, haven't, isn, isn't, ma, mightn, mightn't, mustn, mustn't, needn, needn't, shan, shan't, shouldn, shouldn't, wasn, wasn't, weren, weren't, won, won't, wouldn, wouldn't\""
            ],
            "application/vnd.google.colaboratory.intrinsic+json": {
              "type": "string"
            }
          },
          "metadata": {},
          "execution_count": 39
        }
      ]
    },
    {
      "cell_type": "markdown",
      "source": [
        "#### Cleaning and removing the above stop words list from the tweet text"
      ],
      "metadata": {
        "id": "LBR04SJIoaRr"
      }
    },
    {
      "cell_type": "code",
      "source": [
        "STOPWORDS = set(stopwords.words('english'))\n",
        "def cleaning_stopwords(text):\n",
        "    return \" \".join([word for word in str(text).split() if word not in STOPWORDS])\n",
        "data['text'] = data['text'].apply(lambda text: cleaning_stopwords(text))\n",
        "data['text'].head()"
      ],
      "metadata": {
        "execution": {
          "iopub.status.busy": "2023-04-03T08:07:15.290786Z",
          "iopub.execute_input": "2023-04-03T08:07:15.291649Z",
          "iopub.status.idle": "2023-04-03T08:07:15.453946Z",
          "shell.execute_reply.started": "2023-04-03T08:07:15.2916Z",
          "shell.execute_reply": "2023-04-03T08:07:15.452724Z"
        },
        "trusted": true,
        "id": "OUfCNKPUoaRr",
        "outputId": "49744c03-ccdc-44a9-dd65-84f1bbc4970c",
        "colab": {
          "base_uri": "https://localhost:8080/"
        }
      },
      "execution_count": 40,
      "outputs": [
        {
          "output_type": "execute_result",
          "data": {
            "text/plain": [
              "1    ...\n",
              "4    ...\n",
              "0    ...\n",
              "Name: text, dtype: object"
            ]
          },
          "metadata": {},
          "execution_count": 40
        }
      ]
    },
    {
      "cell_type": "markdown",
      "source": [
        "#### Cleaning and removing punctuations"
      ],
      "metadata": {
        "id": "JE9YvX2PoaRr"
      }
    },
    {
      "cell_type": "code",
      "source": [
        "import string\n",
        "english_punctuations = string.punctuation\n",
        "punctuations_list = english_punctuations\n",
        "def cleaning_punctuations(text):\n",
        "    translator = str.maketrans('', '', punctuations_list)\n",
        "    return text.translate(translator)"
      ],
      "metadata": {
        "execution": {
          "iopub.status.busy": "2023-04-03T08:07:15.456165Z",
          "iopub.execute_input": "2023-04-03T08:07:15.456685Z",
          "iopub.status.idle": "2023-04-03T08:07:15.463299Z",
          "shell.execute_reply.started": "2023-04-03T08:07:15.456636Z",
          "shell.execute_reply": "2023-04-03T08:07:15.462154Z"
        },
        "trusted": true,
        "id": "JyUkkYPaoaRr"
      },
      "execution_count": 42,
      "outputs": []
    },
    {
      "cell_type": "code",
      "source": [
        "data['text']= data['text'].apply(lambda x: cleaning_punctuations(x))\n",
        "data['text'].tail()"
      ],
      "metadata": {
        "execution": {
          "iopub.status.busy": "2023-04-03T08:07:15.465156Z",
          "iopub.execute_input": "2023-04-03T08:07:15.46592Z",
          "iopub.status.idle": "2023-04-03T08:07:15.663982Z",
          "shell.execute_reply.started": "2023-04-03T08:07:15.465874Z",
          "shell.execute_reply": "2023-04-03T08:07:15.662963Z"
        },
        "trusted": true,
        "id": "JldnHaS9oaRr",
        "outputId": "e02a4179-2c28-484b-f8a2-a2efb7289d96",
        "colab": {
          "base_uri": "https://localhost:8080/"
        }
      },
      "execution_count": 43,
      "outputs": [
        {
          "output_type": "execute_result",
          "data": {
            "text/plain": [
              "1    \n",
              "4    \n",
              "0    \n",
              "Name: text, dtype: object"
            ]
          },
          "metadata": {},
          "execution_count": 43
        }
      ]
    },
    {
      "cell_type": "markdown",
      "source": [
        "#### Cleaning and removing repeating characters"
      ],
      "metadata": {
        "id": "pwnVG-OloaRr"
      }
    },
    {
      "cell_type": "code",
      "source": [
        "def cleaning_repeating_char(text):\n",
        "    return re.sub(r'(.)\\1+', r'\\1', text)"
      ],
      "metadata": {
        "execution": {
          "iopub.status.busy": "2023-04-03T08:07:15.665703Z",
          "iopub.execute_input": "2023-04-03T08:07:15.66603Z",
          "iopub.status.idle": "2023-04-03T08:07:15.670391Z",
          "shell.execute_reply.started": "2023-04-03T08:07:15.665998Z",
          "shell.execute_reply": "2023-04-03T08:07:15.669342Z"
        },
        "trusted": true,
        "id": "EvDIPL3hoaRr"
      },
      "execution_count": 44,
      "outputs": []
    },
    {
      "cell_type": "code",
      "source": [
        "import re\n",
        "data['text'] = data['text'].apply(lambda x: cleaning_repeating_char(x))\n",
        "data['text'].tail()"
      ],
      "metadata": {
        "execution": {
          "iopub.status.busy": "2023-04-03T08:07:15.67189Z",
          "iopub.execute_input": "2023-04-03T08:07:15.672418Z",
          "iopub.status.idle": "2023-04-03T08:07:16.044609Z",
          "shell.execute_reply.started": "2023-04-03T08:07:15.672365Z",
          "shell.execute_reply": "2023-04-03T08:07:16.043726Z"
        },
        "trusted": true,
        "id": "QqFOT58yoaRr",
        "outputId": "a73227d3-61aa-48b7-dbf4-e123a1f50831",
        "colab": {
          "base_uri": "https://localhost:8080/"
        }
      },
      "execution_count": 46,
      "outputs": [
        {
          "output_type": "execute_result",
          "data": {
            "text/plain": [
              "1    \n",
              "4    \n",
              "0    \n",
              "Name: text, dtype: object"
            ]
          },
          "metadata": {},
          "execution_count": 46
        }
      ]
    },
    {
      "cell_type": "markdown",
      "source": [
        "#### Cleaning and removing email"
      ],
      "metadata": {
        "id": "m78NLs_BoaRs"
      }
    },
    {
      "cell_type": "code",
      "source": [
        "def cleaning_email(data):\n",
        "    return re.sub('@[^\\s]+', ' ', data)"
      ],
      "metadata": {
        "execution": {
          "iopub.status.busy": "2023-04-03T08:07:16.045876Z",
          "iopub.execute_input": "2023-04-03T08:07:16.04642Z",
          "iopub.status.idle": "2023-04-03T08:07:16.051278Z",
          "shell.execute_reply.started": "2023-04-03T08:07:16.046362Z",
          "shell.execute_reply": "2023-04-03T08:07:16.050171Z"
        },
        "trusted": true,
        "id": "5KkvnfifoaRs"
      },
      "execution_count": 47,
      "outputs": []
    },
    {
      "cell_type": "code",
      "source": [
        "data['text']= data['text'].apply(lambda x: cleaning_email(x))\n",
        "data['text'].tail()"
      ],
      "metadata": {
        "execution": {
          "iopub.status.busy": "2023-04-03T08:07:16.052987Z",
          "iopub.execute_input": "2023-04-03T08:07:16.053347Z",
          "iopub.status.idle": "2023-04-03T08:07:16.128762Z",
          "shell.execute_reply.started": "2023-04-03T08:07:16.05329Z",
          "shell.execute_reply": "2023-04-03T08:07:16.127849Z"
        },
        "trusted": true,
        "id": "qgr6jaDboaRs",
        "outputId": "d4dbad23-2115-44db-9936-6d37436a055e",
        "colab": {
          "base_uri": "https://localhost:8080/"
        }
      },
      "execution_count": 48,
      "outputs": [
        {
          "output_type": "execute_result",
          "data": {
            "text/plain": [
              "1    \n",
              "4    \n",
              "0    \n",
              "Name: text, dtype: object"
            ]
          },
          "metadata": {},
          "execution_count": 48
        }
      ]
    },
    {
      "cell_type": "markdown",
      "source": [
        "#### Cleaning and removing URL's"
      ],
      "metadata": {
        "id": "_GD6t_TSoaRs"
      }
    },
    {
      "cell_type": "code",
      "source": [
        "def cleaning_URLs(data):\n",
        "    return re.sub('((www\\.[^\\s]+)|(https?://[^\\s]+))',' ',data)"
      ],
      "metadata": {
        "execution": {
          "iopub.status.busy": "2023-04-03T08:07:16.130077Z",
          "iopub.execute_input": "2023-04-03T08:07:16.130626Z",
          "iopub.status.idle": "2023-04-03T08:07:16.135607Z",
          "shell.execute_reply.started": "2023-04-03T08:07:16.13057Z",
          "shell.execute_reply": "2023-04-03T08:07:16.134287Z"
        },
        "trusted": true,
        "id": "KjzQXi0BoaRs"
      },
      "execution_count": 49,
      "outputs": []
    },
    {
      "cell_type": "code",
      "source": [
        "data['text'] = data['text'].apply(lambda x: cleaning_URLs(x))\n",
        "data['text'].tail()"
      ],
      "metadata": {
        "execution": {
          "iopub.status.busy": "2023-04-03T08:07:16.137554Z",
          "iopub.execute_input": "2023-04-03T08:07:16.137889Z",
          "iopub.status.idle": "2023-04-03T08:07:16.317718Z",
          "shell.execute_reply.started": "2023-04-03T08:07:16.137856Z",
          "shell.execute_reply": "2023-04-03T08:07:16.316858Z"
        },
        "trusted": true,
        "id": "_ihG_0mUoaRs",
        "outputId": "cfff412f-571f-4ec7-b7af-b58a5c82d40e",
        "colab": {
          "base_uri": "https://localhost:8080/"
        }
      },
      "execution_count": 50,
      "outputs": [
        {
          "output_type": "execute_result",
          "data": {
            "text/plain": [
              "1    \n",
              "4    \n",
              "0    \n",
              "Name: text, dtype: object"
            ]
          },
          "metadata": {},
          "execution_count": 50
        }
      ]
    },
    {
      "cell_type": "markdown",
      "source": [
        "#### Cleaning and removing Numeric numbers"
      ],
      "metadata": {
        "id": "oqKgLJsaoaRs"
      }
    },
    {
      "cell_type": "code",
      "source": [
        "def cleaning_numbers(data):\n",
        "    return re.sub('[0-9]+', '', data)"
      ],
      "metadata": {
        "execution": {
          "iopub.status.busy": "2023-04-03T08:07:16.31895Z",
          "iopub.execute_input": "2023-04-03T08:07:16.319441Z",
          "iopub.status.idle": "2023-04-03T08:07:16.323331Z",
          "shell.execute_reply.started": "2023-04-03T08:07:16.319386Z",
          "shell.execute_reply": "2023-04-03T08:07:16.322487Z"
        },
        "trusted": true,
        "id": "icZHcVT4oaRs"
      },
      "execution_count": 51,
      "outputs": []
    },
    {
      "cell_type": "code",
      "source": [
        "data['text'] = data['text'].apply(lambda x: cleaning_numbers(x))\n",
        "data['text'].tail()"
      ],
      "metadata": {
        "execution": {
          "iopub.status.busy": "2023-04-03T08:07:16.329364Z",
          "iopub.execute_input": "2023-04-03T08:07:16.32994Z",
          "iopub.status.idle": "2023-04-03T08:07:16.452657Z",
          "shell.execute_reply.started": "2023-04-03T08:07:16.329742Z",
          "shell.execute_reply": "2023-04-03T08:07:16.451414Z"
        },
        "trusted": true,
        "id": "4Ik2XeqDoaRs",
        "outputId": "f8814006-8db4-494a-9545-fc313b86311a",
        "colab": {
          "base_uri": "https://localhost:8080/"
        }
      },
      "execution_count": 52,
      "outputs": [
        {
          "output_type": "execute_result",
          "data": {
            "text/plain": [
              "1    \n",
              "4    \n",
              "0    \n",
              "Name: text, dtype: object"
            ]
          },
          "metadata": {},
          "execution_count": 52
        }
      ]
    },
    {
      "cell_type": "markdown",
      "source": [
        "#### Getting tokenization of tweet text"
      ],
      "metadata": {
        "id": "CEdd_VCwoaRs"
      }
    },
    {
      "cell_type": "code",
      "source": [
        "!pip install nltk\n",
        "import nltk\n",
        "from nltk.tokenize import RegexpTokenizer\n",
        "\n",
        "tokenizer = RegexpTokenizer(r'\\w+')\n",
        "data['text'] = data['text'].apply(tokenizer.tokenize)"
      ],
      "metadata": {
        "execution": {
          "iopub.status.busy": "2023-04-03T08:07:16.454097Z",
          "iopub.execute_input": "2023-04-03T08:07:16.454479Z",
          "iopub.status.idle": "2023-04-03T08:07:16.597642Z",
          "shell.execute_reply.started": "2023-04-03T08:07:16.454445Z",
          "shell.execute_reply": "2023-04-03T08:07:16.59664Z"
        },
        "trusted": true,
        "id": "y_ksBMUGoaRs",
        "outputId": "8bff4b88-3306-415b-bc09-a3cc9ec6a4e6",
        "colab": {
          "base_uri": "https://localhost:8080/"
        }
      },
      "execution_count": 54,
      "outputs": [
        {
          "output_type": "stream",
          "name": "stdout",
          "text": [
            "Requirement already satisfied: nltk in /usr/local/lib/python3.10/dist-packages (3.8.1)\n",
            "Requirement already satisfied: click in /usr/local/lib/python3.10/dist-packages (from nltk) (8.1.7)\n",
            "Requirement already satisfied: joblib in /usr/local/lib/python3.10/dist-packages (from nltk) (1.3.2)\n",
            "Requirement already satisfied: regex>=2021.8.3 in /usr/local/lib/python3.10/dist-packages (from nltk) (2023.12.25)\n",
            "Requirement already satisfied: tqdm in /usr/local/lib/python3.10/dist-packages (from nltk) (4.66.2)\n"
          ]
        }
      ]
    },
    {
      "cell_type": "code",
      "source": [
        "data['text'].head()"
      ],
      "metadata": {
        "execution": {
          "iopub.status.busy": "2023-04-03T08:07:16.600376Z",
          "iopub.execute_input": "2023-04-03T08:07:16.600837Z",
          "iopub.status.idle": "2023-04-03T08:07:16.614218Z",
          "shell.execute_reply.started": "2023-04-03T08:07:16.600789Z",
          "shell.execute_reply": "2023-04-03T08:07:16.612684Z"
        },
        "trusted": true,
        "id": "LcaehxyNoaRs",
        "outputId": "6657af54-57ca-4c85-a12b-3392c5c9c809",
        "colab": {
          "base_uri": "https://localhost:8080/"
        }
      },
      "execution_count": 55,
      "outputs": [
        {
          "output_type": "execute_result",
          "data": {
            "text/plain": [
              "1    []\n",
              "4    []\n",
              "0    []\n",
              "Name: text, dtype: object"
            ]
          },
          "metadata": {},
          "execution_count": 55
        }
      ]
    },
    {
      "cell_type": "markdown",
      "source": [
        "#### Applying Stemming"
      ],
      "metadata": {
        "id": "2hoNYPVgoaRs"
      }
    },
    {
      "cell_type": "code",
      "source": [
        "st = nltk.PorterStemmer()\n",
        "def stemming_on_text(data):\n",
        "    text = [st.stem(word) for word in data]\n",
        "    return data\n",
        "\n",
        "data['text']= data['text'].apply(lambda x: stemming_on_text(x))"
      ],
      "metadata": {
        "execution": {
          "iopub.status.busy": "2023-04-03T08:07:16.615591Z",
          "iopub.execute_input": "2023-04-03T08:07:16.615994Z",
          "iopub.status.idle": "2023-04-03T08:07:24.781361Z",
          "shell.execute_reply.started": "2023-04-03T08:07:16.615961Z",
          "shell.execute_reply": "2023-04-03T08:07:24.780017Z"
        },
        "trusted": true,
        "id": "TeZcI_7GoaRs"
      },
      "execution_count": 56,
      "outputs": []
    },
    {
      "cell_type": "code",
      "source": [
        "data['text'].head()"
      ],
      "metadata": {
        "execution": {
          "iopub.status.busy": "2023-04-03T08:07:24.783012Z",
          "iopub.execute_input": "2023-04-03T08:07:24.783363Z",
          "iopub.status.idle": "2023-04-03T08:07:24.792087Z",
          "shell.execute_reply.started": "2023-04-03T08:07:24.783331Z",
          "shell.execute_reply": "2023-04-03T08:07:24.790904Z"
        },
        "trusted": true,
        "id": "AgbAAVasoaRs",
        "outputId": "b91a7b15-0f23-4790-ea7a-77f7c1d8e770",
        "colab": {
          "base_uri": "https://localhost:8080/"
        }
      },
      "execution_count": 57,
      "outputs": [
        {
          "output_type": "execute_result",
          "data": {
            "text/plain": [
              "1    []\n",
              "4    []\n",
              "0    []\n",
              "Name: text, dtype: object"
            ]
          },
          "metadata": {},
          "execution_count": 57
        }
      ]
    },
    {
      "cell_type": "markdown",
      "source": [
        "#### Applying Lemmatizer"
      ],
      "metadata": {
        "id": "2jukbCTvoaRt"
      }
    },
    {
      "cell_type": "code",
      "source": [
        "lm = nltk.WordNetLemmatizer()\n",
        "def lemmatizer_on_text(data):\n",
        "    text = [lm.lemmatize(word) for word in data]\n",
        "    return data\n",
        "\n",
        "data['text'] = data['text'].apply(lambda x: lemmatizer_on_text(x))"
      ],
      "metadata": {
        "execution": {
          "iopub.status.busy": "2023-04-03T08:07:24.793309Z",
          "iopub.execute_input": "2023-04-03T08:07:24.793598Z",
          "iopub.status.idle": "2023-04-03T08:07:27.893919Z",
          "shell.execute_reply.started": "2023-04-03T08:07:24.79357Z",
          "shell.execute_reply": "2023-04-03T08:07:27.892678Z"
        },
        "trusted": true,
        "id": "gggv5O3xoaRt"
      },
      "execution_count": 58,
      "outputs": []
    },
    {
      "cell_type": "code",
      "source": [
        "data['text'].head()"
      ],
      "metadata": {
        "execution": {
          "iopub.status.busy": "2023-04-03T08:07:27.895414Z",
          "iopub.execute_input": "2023-04-03T08:07:27.895832Z",
          "iopub.status.idle": "2023-04-03T08:07:27.90412Z",
          "shell.execute_reply.started": "2023-04-03T08:07:27.895799Z",
          "shell.execute_reply": "2023-04-03T08:07:27.903292Z"
        },
        "trusted": true,
        "id": "-S-0HWwEoaRt",
        "outputId": "a73feb2c-f41c-474b-c486-69610f83b2df",
        "colab": {
          "base_uri": "https://localhost:8080/"
        }
      },
      "execution_count": 59,
      "outputs": [
        {
          "output_type": "execute_result",
          "data": {
            "text/plain": [
              "1    []\n",
              "4    []\n",
              "0    []\n",
              "Name: text, dtype: object"
            ]
          },
          "metadata": {},
          "execution_count": 59
        }
      ]
    },
    {
      "cell_type": "markdown",
      "source": [
        "<b> <h3> Labels : </h3></b>  labels are the targets like in this project senitments of the tweets are labels."
      ],
      "metadata": {
        "id": "KruAoCx-oaRt"
      }
    },
    {
      "cell_type": "markdown",
      "source": [
        "<b> <h3> Inputs : </h3></b>  Inputs are the data that we feed into machine learning like in this project tweets texts are the inputs."
      ],
      "metadata": {
        "id": "CnscmtJ-oaRt"
      }
    },
    {
      "cell_type": "markdown",
      "source": [
        "<b> <h3> Training Data </h3></b>  We use training data when we train the models. We feed train data to machine learning and deep learning models so that model can learn from the data."
      ],
      "metadata": {
        "id": "iewvQTRHoaRt"
      }
    },
    {
      "cell_type": "markdown",
      "source": [
        "<b> <h3> Validation Data </h3></b>  We use validation data while training the model. We use this data to evalaute the performance that how the model perform on training time."
      ],
      "metadata": {
        "id": "-QPXyK40oaRt"
      }
    },
    {
      "cell_type": "markdown",
      "source": [
        "<b> <h3> Testing Data </h3></b>  We use testing data after training the model. We use this data to evalaute the performance that how the model perform after training. So in this way first we get predictions from the trained model without giving the labels and then we compare the true labels with predictions and get the performance of th model.."
      ],
      "metadata": {
        "id": "Lu7Txr7moaRt"
      }
    },
    {
      "cell_type": "markdown",
      "source": [
        "####  Separating input feature and label"
      ],
      "metadata": {
        "id": "gwEib1xloaRt"
      }
    },
    {
      "cell_type": "code",
      "source": [
        "X=data.text\n",
        "y=data.label"
      ],
      "metadata": {
        "execution": {
          "iopub.status.busy": "2023-04-03T08:07:27.905517Z",
          "iopub.execute_input": "2023-04-03T08:07:27.90614Z",
          "iopub.status.idle": "2023-04-03T08:07:27.913936Z",
          "shell.execute_reply.started": "2023-04-03T08:07:27.906108Z",
          "shell.execute_reply": "2023-04-03T08:07:27.912979Z"
        },
        "trusted": true,
        "id": "pjToEZsKoaRt"
      },
      "execution_count": 60,
      "outputs": []
    },
    {
      "cell_type": "markdown",
      "source": [
        "#### Preparing the input features for training\n",
        "- We converting the text words into arrays form.\n",
        "- Maximum 500 features/words selected for training. These 500 words will be selected on the importance that will distinguish between the positive tweets and negative tweets."
      ],
      "metadata": {
        "id": "ZjgVGcicoaRt"
      }
    },
    {
      "cell_type": "code",
      "source": [
        "!pip install tensorflow\n",
        "import tensorflow as tf\n",
        "from tensorflow.keras.preprocessing.text import Tokenizer\n",
        "from tensorflow.keras.preprocessing.sequence import pad_sequences\n",
        "\n",
        "max_len = 500\n",
        "tok = Tokenizer(num_words=2000)\n",
        "tok.fit_on_texts(X)\n",
        "sequences = tok.texts_to_sequences(X)\n",
        "sequences_matrix = pad_sequences(sequences,maxlen=max_len)"
      ],
      "metadata": {
        "id": "plIFObh4jYJV",
        "outputId": "da01fc7f-ff91-432f-a2b0-eb0465b69e6e",
        "execution": {
          "iopub.status.busy": "2023-04-03T08:07:27.915064Z",
          "iopub.execute_input": "2023-04-03T08:07:27.915589Z",
          "iopub.status.idle": "2023-04-03T08:07:28.795463Z",
          "shell.execute_reply.started": "2023-04-03T08:07:27.915552Z",
          "shell.execute_reply": "2023-04-03T08:07:28.794447Z"
        },
        "trusted": true,
        "colab": {
          "base_uri": "https://localhost:8080/"
        }
      },
      "execution_count": 62,
      "outputs": [
        {
          "output_type": "stream",
          "name": "stdout",
          "text": [
            "Requirement already satisfied: tensorflow in /usr/local/lib/python3.10/dist-packages (2.15.0)\n",
            "Requirement already satisfied: absl-py>=1.0.0 in /usr/local/lib/python3.10/dist-packages (from tensorflow) (1.4.0)\n",
            "Requirement already satisfied: astunparse>=1.6.0 in /usr/local/lib/python3.10/dist-packages (from tensorflow) (1.6.3)\n",
            "Requirement already satisfied: flatbuffers>=23.5.26 in /usr/local/lib/python3.10/dist-packages (from tensorflow) (24.3.25)\n",
            "Requirement already satisfied: gast!=0.5.0,!=0.5.1,!=0.5.2,>=0.2.1 in /usr/local/lib/python3.10/dist-packages (from tensorflow) (0.5.4)\n",
            "Requirement already satisfied: google-pasta>=0.1.1 in /usr/local/lib/python3.10/dist-packages (from tensorflow) (0.2.0)\n",
            "Requirement already satisfied: h5py>=2.9.0 in /usr/local/lib/python3.10/dist-packages (from tensorflow) (3.9.0)\n",
            "Requirement already satisfied: libclang>=13.0.0 in /usr/local/lib/python3.10/dist-packages (from tensorflow) (18.1.1)\n",
            "Requirement already satisfied: ml-dtypes~=0.2.0 in /usr/local/lib/python3.10/dist-packages (from tensorflow) (0.2.0)\n",
            "Requirement already satisfied: numpy<2.0.0,>=1.23.5 in /usr/local/lib/python3.10/dist-packages (from tensorflow) (1.25.2)\n",
            "Requirement already satisfied: opt-einsum>=2.3.2 in /usr/local/lib/python3.10/dist-packages (from tensorflow) (3.3.0)\n",
            "Requirement already satisfied: packaging in /usr/local/lib/python3.10/dist-packages (from tensorflow) (24.0)\n",
            "Requirement already satisfied: protobuf!=4.21.0,!=4.21.1,!=4.21.2,!=4.21.3,!=4.21.4,!=4.21.5,<5.0.0dev,>=3.20.3 in /usr/local/lib/python3.10/dist-packages (from tensorflow) (3.20.3)\n",
            "Requirement already satisfied: setuptools in /usr/local/lib/python3.10/dist-packages (from tensorflow) (67.7.2)\n",
            "Requirement already satisfied: six>=1.12.0 in /usr/local/lib/python3.10/dist-packages (from tensorflow) (1.16.0)\n",
            "Requirement already satisfied: termcolor>=1.1.0 in /usr/local/lib/python3.10/dist-packages (from tensorflow) (2.4.0)\n",
            "Requirement already satisfied: typing-extensions>=3.6.6 in /usr/local/lib/python3.10/dist-packages (from tensorflow) (4.10.0)\n",
            "Requirement already satisfied: wrapt<1.15,>=1.11.0 in /usr/local/lib/python3.10/dist-packages (from tensorflow) (1.14.1)\n",
            "Requirement already satisfied: tensorflow-io-gcs-filesystem>=0.23.1 in /usr/local/lib/python3.10/dist-packages (from tensorflow) (0.36.0)\n",
            "Requirement already satisfied: grpcio<2.0,>=1.24.3 in /usr/local/lib/python3.10/dist-packages (from tensorflow) (1.62.1)\n",
            "Requirement already satisfied: tensorboard<2.16,>=2.15 in /usr/local/lib/python3.10/dist-packages (from tensorflow) (2.15.2)\n",
            "Requirement already satisfied: tensorflow-estimator<2.16,>=2.15.0 in /usr/local/lib/python3.10/dist-packages (from tensorflow) (2.15.0)\n",
            "Requirement already satisfied: keras<2.16,>=2.15.0 in /usr/local/lib/python3.10/dist-packages (from tensorflow) (2.15.0)\n",
            "Requirement already satisfied: wheel<1.0,>=0.23.0 in /usr/local/lib/python3.10/dist-packages (from astunparse>=1.6.0->tensorflow) (0.43.0)\n",
            "Requirement already satisfied: google-auth<3,>=1.6.3 in /usr/local/lib/python3.10/dist-packages (from tensorboard<2.16,>=2.15->tensorflow) (2.27.0)\n",
            "Requirement already satisfied: google-auth-oauthlib<2,>=0.5 in /usr/local/lib/python3.10/dist-packages (from tensorboard<2.16,>=2.15->tensorflow) (1.2.0)\n",
            "Requirement already satisfied: markdown>=2.6.8 in /usr/local/lib/python3.10/dist-packages (from tensorboard<2.16,>=2.15->tensorflow) (3.6)\n",
            "Requirement already satisfied: requests<3,>=2.21.0 in /usr/local/lib/python3.10/dist-packages (from tensorboard<2.16,>=2.15->tensorflow) (2.31.0)\n",
            "Requirement already satisfied: tensorboard-data-server<0.8.0,>=0.7.0 in /usr/local/lib/python3.10/dist-packages (from tensorboard<2.16,>=2.15->tensorflow) (0.7.2)\n",
            "Requirement already satisfied: werkzeug>=1.0.1 in /usr/local/lib/python3.10/dist-packages (from tensorboard<2.16,>=2.15->tensorflow) (3.0.1)\n",
            "Requirement already satisfied: cachetools<6.0,>=2.0.0 in /usr/local/lib/python3.10/dist-packages (from google-auth<3,>=1.6.3->tensorboard<2.16,>=2.15->tensorflow) (5.3.3)\n",
            "Requirement already satisfied: pyasn1-modules>=0.2.1 in /usr/local/lib/python3.10/dist-packages (from google-auth<3,>=1.6.3->tensorboard<2.16,>=2.15->tensorflow) (0.4.0)\n",
            "Requirement already satisfied: rsa<5,>=3.1.4 in /usr/local/lib/python3.10/dist-packages (from google-auth<3,>=1.6.3->tensorboard<2.16,>=2.15->tensorflow) (4.9)\n",
            "Requirement already satisfied: requests-oauthlib>=0.7.0 in /usr/local/lib/python3.10/dist-packages (from google-auth-oauthlib<2,>=0.5->tensorboard<2.16,>=2.15->tensorflow) (1.4.1)\n",
            "Requirement already satisfied: charset-normalizer<4,>=2 in /usr/local/lib/python3.10/dist-packages (from requests<3,>=2.21.0->tensorboard<2.16,>=2.15->tensorflow) (3.3.2)\n",
            "Requirement already satisfied: idna<4,>=2.5 in /usr/local/lib/python3.10/dist-packages (from requests<3,>=2.21.0->tensorboard<2.16,>=2.15->tensorflow) (3.6)\n",
            "Requirement already satisfied: urllib3<3,>=1.21.1 in /usr/local/lib/python3.10/dist-packages (from requests<3,>=2.21.0->tensorboard<2.16,>=2.15->tensorflow) (2.0.7)\n",
            "Requirement already satisfied: certifi>=2017.4.17 in /usr/local/lib/python3.10/dist-packages (from requests<3,>=2.21.0->tensorboard<2.16,>=2.15->tensorflow) (2024.2.2)\n",
            "Requirement already satisfied: MarkupSafe>=2.1.1 in /usr/local/lib/python3.10/dist-packages (from werkzeug>=1.0.1->tensorboard<2.16,>=2.15->tensorflow) (2.1.5)\n",
            "Requirement already satisfied: pyasn1<0.7.0,>=0.4.6 in /usr/local/lib/python3.10/dist-packages (from pyasn1-modules>=0.2.1->google-auth<3,>=1.6.3->tensorboard<2.16,>=2.15->tensorflow) (0.6.0)\n",
            "Requirement already satisfied: oauthlib>=3.0.0 in /usr/local/lib/python3.10/dist-packages (from requests-oauthlib>=0.7.0->google-auth-oauthlib<2,>=0.5->tensorboard<2.16,>=2.15->tensorflow) (3.2.2)\n"
          ]
        }
      ]
    },
    {
      "cell_type": "markdown",
      "source": [
        "As we can see that there total 40000 tweets and the number words/features are 500."
      ],
      "metadata": {
        "id": "bnhs7aZVoaRu"
      }
    },
    {
      "cell_type": "code",
      "source": [
        "sequences_matrix.shape"
      ],
      "metadata": {
        "execution": {
          "iopub.status.busy": "2023-04-03T08:07:28.796659Z",
          "iopub.execute_input": "2023-04-03T08:07:28.797125Z",
          "iopub.status.idle": "2023-04-03T08:07:28.802844Z",
          "shell.execute_reply.started": "2023-04-03T08:07:28.797093Z",
          "shell.execute_reply": "2023-04-03T08:07:28.801436Z"
        },
        "trusted": true,
        "id": "9Cm_pwqFoaRu",
        "outputId": "2dfb7ebf-b11e-410a-8dd5-126c4fd935c3",
        "colab": {
          "base_uri": "https://localhost:8080/"
        }
      },
      "execution_count": 63,
      "outputs": [
        {
          "output_type": "execute_result",
          "data": {
            "text/plain": [
              "(3, 500)"
            ]
          },
          "metadata": {},
          "execution_count": 63
        }
      ]
    },
    {
      "cell_type": "markdown",
      "source": [
        "#### Separating the 70% data for training data and 30% for testing data"
      ],
      "metadata": {
        "id": "aBmQL4ZgoaRu"
      }
    },
    {
      "cell_type": "markdown",
      "source": [
        "As we prepared all the tweets, now we are separating/splitting the tweets into training data and testing data.\n",
        "- 70% tweets will be used in the training\n",
        "- 30% tweets will be used to test the performance of the model."
      ],
      "metadata": {
        "id": "khg3lZu-oaRu"
      }
    },
    {
      "cell_type": "code",
      "source": [
        "from sklearn.model_selection import train_test_split\n",
        "X_train, X_test, Y_train, Y_test = train_test_split(sequences_matrix, y, test_size=0.3, random_state=2)"
      ],
      "metadata": {
        "id": "oOlkTTg4oRqR",
        "execution": {
          "iopub.status.busy": "2023-04-03T08:07:28.804538Z",
          "iopub.execute_input": "2023-04-03T08:07:28.804947Z",
          "iopub.status.idle": "2023-04-03T08:07:28.851833Z",
          "shell.execute_reply.started": "2023-04-03T08:07:28.8049Z",
          "shell.execute_reply": "2023-04-03T08:07:28.850793Z"
        },
        "trusted": true
      },
      "execution_count": 66,
      "outputs": []
    },
    {
      "cell_type": "markdown",
      "source": [
        "<div class=\"alert alert-block alert-danger\">  \n",
        "<h2><center><strong>Implementing Tensorflow based model for training 🧪</strong></center></h2>   \n",
        "</div>"
      ],
      "metadata": {
        "papermill": {
          "duration": 0.065466,
          "end_time": "2020-11-30T07:38:51.578836",
          "exception": false,
          "start_time": "2020-11-30T07:38:51.51337",
          "status": "completed"
        },
        "tags": [],
        "id": "9ddgXAj2oaRu"
      }
    },
    {
      "cell_type": "markdown",
      "source": [
        "<h4> Step 1</h4>\n",
        "- The input to model is 500 words because these are the number features/words that we extracted above from text of tweets.\n",
        "\n",
        "<h4> Step 2</h4>\n",
        "- Embeddings provide the presentation of words and their relative meanings. Like in this, we are feeding the limit of maximum words, lenght of input words and the inputs of previous layer.\n",
        "\n",
        "<h4> Step 3</h4>\n",
        "- LSTM (long short term memory) save the words and predict the next words based on the previous words. LSTM is a sequance predictor of next coming words.\n",
        "\n",
        "<img src=\"https://static.wixstatic.com/media/3eee0b_969c1d3e8d7943f0bd693d6151199f69~mv2.gif\">\n",
        "<h4> Ref: https://static.wixstatic.com/media/3eee0b_969c1d3e8d7943f0bd693d6151199f69~mv2.gif </h4>\n",
        "\n",
        "<h4> Step 4</h4>\n",
        "- Dense layer reduce the outputs by getting inputs from Faltten layer. Dense layer use all the inputs of previous layer neurons and perform calculations and send 256 outputs\n",
        "\n",
        "<h4> Step 5</h4>\n",
        "- Activation function is node that is put at the end of all layers of neural network model or in between neural network layers. Activation function help to decide which neuron should be pass and which neuron should fire. So activation function of node defines the output of that node given an input or set of inputs.\n",
        "\n",
        "<img src=\"https://miro.medium.com/v2/resize:fit:1400/1*mcJfRvd9zarAbkHppFRrCQ.gif\">\n",
        "<h4> Ref: https://miro.medium.com/v2/resize:fit:1400/1*mcJfRvd9zarAbkHppFRrCQ.gif </h4>\n",
        "\n",
        "<h4> Step 6</h4>\n",
        "- Droupout layer drop some neurons from previous layers. why we apply this? We apply this to avoid the overfitting problems. In overfitting, model give good accuracy on training time but not good on testing time.\n",
        "<img src=\"https://i.imgur.com/a86utxY.gif\">\n",
        "<h4> Ref: https://i.imgur.com/a86utxY.gif </h4>"
      ],
      "metadata": {
        "id": "MHQTUm85oaRu"
      }
    },
    {
      "cell_type": "code",
      "source": [
        "def tensorflow_based_model(): #Defined tensorflow_based_model function for training tenforflow based model\n",
        "    inputs = Input(name='inputs',shape=[max_len])#step1\n",
        "    layer = Embedding(2000,50,input_length=max_len)(inputs) #step2\n",
        "    layer = LSTM(64)(layer) #step3\n",
        "    layer = Dense(256,name='FC1')(layer) #step4\n",
        "    layer = Activation('relu')(layer) # step5\n",
        "    layer = Dropout(0.5)(layer) # step6\n",
        "    layer = Dense(1,name='out_layer')(layer) #step4 again but this time its giving only one output as because we need to classify the tweet as positive or negative\n",
        "    layer = Activation('sigmoid')(layer) #step5 but this time activation function is sigmoid for only one output.\n",
        "    model = Model(inputs=inputs,outputs=layer) #here we are getting the final output value in the model for classification\n",
        "    return model #function returning the value when we call it"
      ],
      "metadata": {
        "execution": {
          "iopub.status.busy": "2023-04-03T08:07:28.853275Z",
          "iopub.execute_input": "2023-04-03T08:07:28.853569Z",
          "iopub.status.idle": "2023-04-03T08:07:28.860928Z",
          "shell.execute_reply.started": "2023-04-03T08:07:28.853539Z",
          "shell.execute_reply": "2023-04-03T08:07:28.859834Z"
        },
        "trusted": true,
        "id": "CC1YSQNcoaRu"
      },
      "execution_count": 67,
      "outputs": []
    },
    {
      "cell_type": "markdown",
      "source": [
        "# Model compilation"
      ],
      "metadata": {
        "id": "53cy0pb8oaRu"
      }
    },
    {
      "cell_type": "markdown",
      "source": [
        "- First we are calling the model\n",
        "- We are using 2 classes so we set \"binary_crossentropy\" and if we use more than two classes then we use \"categorical_crossentropy\"\n",
        "- Optimizer is a function that used to change the features of neural network such as learning rate (how the model learn with features) in order to reduce the losses. So the learning rate of neural network to reduce the losses is defined by optimizer.\n",
        "- We are setting metrics=accuracy because we are going to caluclate the percentage of correct predictions over all predictions on the validation set"
      ],
      "metadata": {
        "id": "Ww33m2a4oaRu"
      }
    },
    {
      "cell_type": "code",
      "source": [
        "from tensorflow.keras.models import Sequential\n",
        "from tensorflow.keras.layers import Dense\n",
        "model = Sequential()\n",
        "model.add(Dense(12, input_shape=(10,), activation='relu'))\n",
        "model.add(Dense(8, activation='relu'))\n",
        "model.add(Dense(1, activation='sigmoid'))\n",
        "model.compile(loss='binary_crossentropy', optimizer='adam', metrics=['accuracy'])\n",
        "history = model.fit(X_train, Y_train, batch_size=80, epochs=6, validation_split=0.1)\n",
        "print('Training finished !!')"
      ],
      "metadata": {
        "execution": {
          "iopub.status.busy": "2023-04-03T08:07:28.862457Z",
          "iopub.execute_input": "2023-04-03T08:07:28.862755Z",
          "iopub.status.idle": "2023-04-03T08:07:29.197013Z",
          "shell.execute_reply.started": "2023-04-03T08:07:28.862726Z",
          "shell.execute_reply": "2023-04-03T08:07:29.196099Z"
        },
        "trusted": true,
        "id": "WiqyMMAuoaRu",
        "outputId": "543deeef-afd1-4ca5-b381-86397db35569",
        "colab": {
          "base_uri": "https://localhost:8080/",
          "height": 365
        }
      },
      "execution_count": 82,
      "outputs": [
        {
          "output_type": "error",
          "ename": "IndexError",
          "evalue": "tuple index out of range",
          "traceback": [
            "\u001b[0;31m---------------------------------------------------------------------------\u001b[0m",
            "\u001b[0;31mIndexError\u001b[0m                                Traceback (most recent call last)",
            "\u001b[0;32m<ipython-input-82-e2c0df780cef>\u001b[0m in \u001b[0;36m<cell line: 8>\u001b[0;34m()\u001b[0m\n\u001b[1;32m      6\u001b[0m \u001b[0mmodel\u001b[0m\u001b[0;34m.\u001b[0m\u001b[0madd\u001b[0m\u001b[0;34m(\u001b[0m\u001b[0mDense\u001b[0m\u001b[0;34m(\u001b[0m\u001b[0;36m1\u001b[0m\u001b[0;34m,\u001b[0m \u001b[0mactivation\u001b[0m\u001b[0;34m=\u001b[0m\u001b[0;34m'sigmoid'\u001b[0m\u001b[0;34m)\u001b[0m\u001b[0;34m)\u001b[0m\u001b[0;34m\u001b[0m\u001b[0;34m\u001b[0m\u001b[0m\n\u001b[1;32m      7\u001b[0m \u001b[0mmodel\u001b[0m\u001b[0;34m.\u001b[0m\u001b[0mcompile\u001b[0m\u001b[0;34m(\u001b[0m\u001b[0mloss\u001b[0m\u001b[0;34m=\u001b[0m\u001b[0;34m'binary_crossentropy'\u001b[0m\u001b[0;34m,\u001b[0m \u001b[0moptimizer\u001b[0m\u001b[0;34m=\u001b[0m\u001b[0;34m'adam'\u001b[0m\u001b[0;34m,\u001b[0m \u001b[0mmetrics\u001b[0m\u001b[0;34m=\u001b[0m\u001b[0;34m[\u001b[0m\u001b[0;34m'accuracy'\u001b[0m\u001b[0;34m]\u001b[0m\u001b[0;34m)\u001b[0m\u001b[0;34m\u001b[0m\u001b[0;34m\u001b[0m\u001b[0m\n\u001b[0;32m----> 8\u001b[0;31m \u001b[0mhistory\u001b[0m \u001b[0;34m=\u001b[0m \u001b[0mmodel\u001b[0m\u001b[0;34m.\u001b[0m\u001b[0mfit\u001b[0m\u001b[0;34m(\u001b[0m\u001b[0mX_train\u001b[0m\u001b[0;34m,\u001b[0m \u001b[0mY_train\u001b[0m\u001b[0;34m,\u001b[0m \u001b[0mbatch_size\u001b[0m\u001b[0;34m=\u001b[0m\u001b[0;36m80\u001b[0m\u001b[0;34m,\u001b[0m \u001b[0mepochs\u001b[0m\u001b[0;34m=\u001b[0m\u001b[0;36m6\u001b[0m\u001b[0;34m,\u001b[0m \u001b[0mvalidation_split\u001b[0m\u001b[0;34m=\u001b[0m\u001b[0;36m0.1\u001b[0m\u001b[0;34m)\u001b[0m\u001b[0;34m\u001b[0m\u001b[0;34m\u001b[0m\u001b[0m\n\u001b[0m\u001b[1;32m      9\u001b[0m \u001b[0mprint\u001b[0m\u001b[0;34m(\u001b[0m\u001b[0;34m'Training finished !!'\u001b[0m\u001b[0;34m)\u001b[0m\u001b[0;34m\u001b[0m\u001b[0;34m\u001b[0m\u001b[0m\n",
            "\u001b[0;32m/usr/local/lib/python3.10/dist-packages/keras/src/utils/traceback_utils.py\u001b[0m in \u001b[0;36merror_handler\u001b[0;34m(*args, **kwargs)\u001b[0m\n\u001b[1;32m     68\u001b[0m             \u001b[0;31m# To get the full stack trace, call:\u001b[0m\u001b[0;34m\u001b[0m\u001b[0;34m\u001b[0m\u001b[0m\n\u001b[1;32m     69\u001b[0m             \u001b[0;31m# `tf.debugging.disable_traceback_filtering()`\u001b[0m\u001b[0;34m\u001b[0m\u001b[0;34m\u001b[0m\u001b[0m\n\u001b[0;32m---> 70\u001b[0;31m             \u001b[0;32mraise\u001b[0m \u001b[0me\u001b[0m\u001b[0;34m.\u001b[0m\u001b[0mwith_traceback\u001b[0m\u001b[0;34m(\u001b[0m\u001b[0mfiltered_tb\u001b[0m\u001b[0;34m)\u001b[0m \u001b[0;32mfrom\u001b[0m \u001b[0;32mNone\u001b[0m\u001b[0;34m\u001b[0m\u001b[0;34m\u001b[0m\u001b[0m\n\u001b[0m\u001b[1;32m     71\u001b[0m         \u001b[0;32mfinally\u001b[0m\u001b[0;34m:\u001b[0m\u001b[0;34m\u001b[0m\u001b[0;34m\u001b[0m\u001b[0m\n\u001b[1;32m     72\u001b[0m             \u001b[0;32mdel\u001b[0m \u001b[0mfiltered_tb\u001b[0m\u001b[0;34m\u001b[0m\u001b[0;34m\u001b[0m\u001b[0m\n",
            "\u001b[0;32m/usr/local/lib/python3.10/dist-packages/keras/src/engine/data_adapter.py\u001b[0m in \u001b[0;36mtrain_validation_split\u001b[0;34m(arrays, validation_split)\u001b[0m\n\u001b[1;32m   1789\u001b[0m \u001b[0;34m\u001b[0m\u001b[0m\n\u001b[1;32m   1790\u001b[0m     \u001b[0;31m# Assumes all arrays have the same batch shape or are `None`.\u001b[0m\u001b[0;34m\u001b[0m\u001b[0;34m\u001b[0m\u001b[0m\n\u001b[0;32m-> 1791\u001b[0;31m     \u001b[0mbatch_dim\u001b[0m \u001b[0;34m=\u001b[0m \u001b[0mint\u001b[0m\u001b[0;34m(\u001b[0m\u001b[0mfirst_non_none\u001b[0m\u001b[0;34m.\u001b[0m\u001b[0mshape\u001b[0m\u001b[0;34m[\u001b[0m\u001b[0;36m0\u001b[0m\u001b[0;34m]\u001b[0m\u001b[0;34m)\u001b[0m\u001b[0;34m\u001b[0m\u001b[0;34m\u001b[0m\u001b[0m\n\u001b[0m\u001b[1;32m   1792\u001b[0m     \u001b[0msplit_at\u001b[0m \u001b[0;34m=\u001b[0m \u001b[0mint\u001b[0m\u001b[0;34m(\u001b[0m\u001b[0mmath\u001b[0m\u001b[0;34m.\u001b[0m\u001b[0mfloor\u001b[0m\u001b[0;34m(\u001b[0m\u001b[0mbatch_dim\u001b[0m \u001b[0;34m*\u001b[0m \u001b[0;34m(\u001b[0m\u001b[0;36m1.0\u001b[0m \u001b[0;34m-\u001b[0m \u001b[0mvalidation_split\u001b[0m\u001b[0;34m)\u001b[0m\u001b[0;34m)\u001b[0m\u001b[0;34m)\u001b[0m\u001b[0;34m\u001b[0m\u001b[0;34m\u001b[0m\u001b[0m\n\u001b[1;32m   1793\u001b[0m \u001b[0;34m\u001b[0m\u001b[0m\n",
            "\u001b[0;31mIndexError\u001b[0m: tuple index out of range"
          ]
        }
      ]
    },
    {
      "cell_type": "markdown",
      "source": [
        "#### Training and validating with parameter tuning\n",
        "- We are feeding the training data and getting 10% data for validation from training data\n",
        "* We set the following parameters:\n",
        "- Batch size =80 so the model take 80 tweets in each iteration and train them. Batch size is a term used in machine learning and refers to the number of training examples utilized in one iteration.\n",
        "- Epochs =6 so the model will train on the data 6 times.Epoch is a term used in machine learning and indicates the number of passes of the entire training dataset the machine learning algorithm has completed.\n",
        "- We can choose batch_size, and epochs as we want so the good practice is to set some values and train the model if the model will not give the good results we can change it and then try again for the training of the model. We can repeat this process many time untill we will not get the good results and this process called as parameter tuning.\n"
      ],
      "metadata": {
        "id": "bObliZePoaRu"
      }
    },
    {
      "cell_type": "code",
      "source": [
        "print(f\"Shape of X_train: {X_train.shape}\")\n",
        "print(f\"Shape of Y_train: {Y_train.shape}\")\n",
        "if X_train.shape[0] != Y_train.shape[0]:\n",
        "    raise ValueError(\"Number of samples in X_train and Y_train must be equal.\")\n",
        "    print(f\"First 5 elements of X_train: {X_train[:5]}\")\n",
        "print(f\"First 5 elements of Y_train: {Y_train[:5]}\")\n"
      ],
      "metadata": {
        "execution": {
          "iopub.status.busy": "2023-04-03T08:07:29.198154Z",
          "iopub.execute_input": "2023-04-03T08:07:29.198483Z",
          "iopub.status.idle": "2023-04-03T08:21:48.133043Z",
          "shell.execute_reply.started": "2023-04-03T08:07:29.198452Z",
          "shell.execute_reply": "2023-04-03T08:21:48.131766Z"
        },
        "trusted": true,
        "id": "XhrNWJ6yoaRu",
        "outputId": "2c39301e-f8d6-42e1-913c-1bfde437031c",
        "colab": {
          "base_uri": "https://localhost:8080/",
          "height": 251
        }
      },
      "execution_count": 78,
      "outputs": [
        {
          "output_type": "stream",
          "name": "stdout",
          "text": [
            "Shape of X_train: ()\n",
            "Shape of Y_train: ()\n"
          ]
        },
        {
          "output_type": "error",
          "ename": "IndexError",
          "evalue": "tuple index out of range",
          "traceback": [
            "\u001b[0;31m---------------------------------------------------------------------------\u001b[0m",
            "\u001b[0;31mIndexError\u001b[0m                                Traceback (most recent call last)",
            "\u001b[0;32m<ipython-input-78-b3ca825bf31e>\u001b[0m in \u001b[0;36m<cell line: 3>\u001b[0;34m()\u001b[0m\n\u001b[1;32m      1\u001b[0m \u001b[0mprint\u001b[0m\u001b[0;34m(\u001b[0m\u001b[0;34mf\"Shape of X_train: {X_train.shape}\"\u001b[0m\u001b[0;34m)\u001b[0m\u001b[0;34m\u001b[0m\u001b[0;34m\u001b[0m\u001b[0m\n\u001b[1;32m      2\u001b[0m \u001b[0mprint\u001b[0m\u001b[0;34m(\u001b[0m\u001b[0;34mf\"Shape of Y_train: {Y_train.shape}\"\u001b[0m\u001b[0;34m)\u001b[0m\u001b[0;34m\u001b[0m\u001b[0;34m\u001b[0m\u001b[0m\n\u001b[0;32m----> 3\u001b[0;31m \u001b[0;32mif\u001b[0m \u001b[0mX_train\u001b[0m\u001b[0;34m.\u001b[0m\u001b[0mshape\u001b[0m\u001b[0;34m[\u001b[0m\u001b[0;36m0\u001b[0m\u001b[0;34m]\u001b[0m \u001b[0;34m!=\u001b[0m \u001b[0mY_train\u001b[0m\u001b[0;34m.\u001b[0m\u001b[0mshape\u001b[0m\u001b[0;34m[\u001b[0m\u001b[0;36m0\u001b[0m\u001b[0;34m]\u001b[0m\u001b[0;34m:\u001b[0m\u001b[0;34m\u001b[0m\u001b[0;34m\u001b[0m\u001b[0m\n\u001b[0m\u001b[1;32m      4\u001b[0m     \u001b[0;32mraise\u001b[0m \u001b[0mValueError\u001b[0m\u001b[0;34m(\u001b[0m\u001b[0;34m\"Number of samples in X_train and Y_train must be equal.\"\u001b[0m\u001b[0;34m)\u001b[0m\u001b[0;34m\u001b[0m\u001b[0;34m\u001b[0m\u001b[0m\n\u001b[1;32m      5\u001b[0m     \u001b[0mprint\u001b[0m\u001b[0;34m(\u001b[0m\u001b[0;34mf\"First 5 elements of X_train: {X_train[:5]}\"\u001b[0m\u001b[0;34m)\u001b[0m\u001b[0;34m\u001b[0m\u001b[0;34m\u001b[0m\u001b[0m\n",
            "\u001b[0;31mIndexError\u001b[0m: tuple index out of range"
          ]
        }
      ]
    },
    {
      "cell_type": "markdown",
      "source": [
        "<h1> We need to do all the above configurations to train the model. If we will not set all settings correctly then we could not get the desired results.</h1>"
      ],
      "metadata": {
        "id": "mVEoopgJoaRu"
      }
    },
    {
      "cell_type": "markdown",
      "source": [
        "#### Testing the Trained model on test data\n",
        "- Getting predictions/classifying the sentiments (positve/negative) on the test data using trained model."
      ],
      "metadata": {
        "id": "aQ72A5F4U0wr"
      }
    },
    {
      "cell_type": "code",
      "source": [
        "from tensorflow.keras import backend as K\n",
        "print(f\"X_test shape: {X_test.shape}\")\n",
        "print(f\"Y_test shape: {Y_test.shape}\")\n",
        "if K.image_data_format() == 'channels_first':\n",
        "    X_test = X_test.reshape(X_test.shape[0], 1, X_test.shape[1], X_test.shape[2])\n",
        "else:\n",
        "    X_test = X_test.reshape(X_test.shape[0], X_test.shape[1], X_test.shape[2], 1)\n",
        "    accr1 = model.evaluate(X_test, Y_test)"
      ],
      "metadata": {
        "id": "LlxD3pU9U0ws",
        "outputId": "b6d84ded-0095-4630-86b9-d18138b744d9",
        "execution": {
          "iopub.status.busy": "2023-04-03T08:21:48.135145Z",
          "iopub.execute_input": "2023-04-03T08:21:48.136111Z",
          "iopub.status.idle": "2023-04-03T08:22:16.748346Z",
          "shell.execute_reply.started": "2023-04-03T08:21:48.13606Z",
          "shell.execute_reply": "2023-04-03T08:22:16.747021Z"
        },
        "trusted": true,
        "colab": {
          "base_uri": "https://localhost:8080/",
          "height": 233
        }
      },
      "execution_count": 79,
      "outputs": [
        {
          "output_type": "stream",
          "name": "stdout",
          "text": [
            "X_test shape: (1, 500)\n",
            "Y_test shape: (1,)\n"
          ]
        },
        {
          "output_type": "error",
          "ename": "IndexError",
          "evalue": "tuple index out of range",
          "traceback": [
            "\u001b[0;31m---------------------------------------------------------------------------\u001b[0m",
            "\u001b[0;31mIndexError\u001b[0m                                Traceback (most recent call last)",
            "\u001b[0;32m<ipython-input-79-6646afd093cc>\u001b[0m in \u001b[0;36m<cell line: 4>\u001b[0;34m()\u001b[0m\n\u001b[1;32m      5\u001b[0m     \u001b[0mX_test\u001b[0m \u001b[0;34m=\u001b[0m \u001b[0mX_test\u001b[0m\u001b[0;34m.\u001b[0m\u001b[0mreshape\u001b[0m\u001b[0;34m(\u001b[0m\u001b[0mX_test\u001b[0m\u001b[0;34m.\u001b[0m\u001b[0mshape\u001b[0m\u001b[0;34m[\u001b[0m\u001b[0;36m0\u001b[0m\u001b[0;34m]\u001b[0m\u001b[0;34m,\u001b[0m \u001b[0;36m1\u001b[0m\u001b[0;34m,\u001b[0m \u001b[0mX_test\u001b[0m\u001b[0;34m.\u001b[0m\u001b[0mshape\u001b[0m\u001b[0;34m[\u001b[0m\u001b[0;36m1\u001b[0m\u001b[0;34m]\u001b[0m\u001b[0;34m,\u001b[0m \u001b[0mX_test\u001b[0m\u001b[0;34m.\u001b[0m\u001b[0mshape\u001b[0m\u001b[0;34m[\u001b[0m\u001b[0;36m2\u001b[0m\u001b[0;34m]\u001b[0m\u001b[0;34m)\u001b[0m\u001b[0;34m\u001b[0m\u001b[0;34m\u001b[0m\u001b[0m\n\u001b[1;32m      6\u001b[0m \u001b[0;32melse\u001b[0m\u001b[0;34m:\u001b[0m\u001b[0;34m\u001b[0m\u001b[0;34m\u001b[0m\u001b[0m\n\u001b[0;32m----> 7\u001b[0;31m     \u001b[0mX_test\u001b[0m \u001b[0;34m=\u001b[0m \u001b[0mX_test\u001b[0m\u001b[0;34m.\u001b[0m\u001b[0mreshape\u001b[0m\u001b[0;34m(\u001b[0m\u001b[0mX_test\u001b[0m\u001b[0;34m.\u001b[0m\u001b[0mshape\u001b[0m\u001b[0;34m[\u001b[0m\u001b[0;36m0\u001b[0m\u001b[0;34m]\u001b[0m\u001b[0;34m,\u001b[0m \u001b[0mX_test\u001b[0m\u001b[0;34m.\u001b[0m\u001b[0mshape\u001b[0m\u001b[0;34m[\u001b[0m\u001b[0;36m1\u001b[0m\u001b[0;34m]\u001b[0m\u001b[0;34m,\u001b[0m \u001b[0mX_test\u001b[0m\u001b[0;34m.\u001b[0m\u001b[0mshape\u001b[0m\u001b[0;34m[\u001b[0m\u001b[0;36m2\u001b[0m\u001b[0;34m]\u001b[0m\u001b[0;34m,\u001b[0m \u001b[0;36m1\u001b[0m\u001b[0;34m)\u001b[0m\u001b[0;34m\u001b[0m\u001b[0;34m\u001b[0m\u001b[0m\n\u001b[0m\u001b[1;32m      8\u001b[0m     \u001b[0maccr1\u001b[0m \u001b[0;34m=\u001b[0m \u001b[0mmodel\u001b[0m\u001b[0;34m.\u001b[0m\u001b[0mevaluate\u001b[0m\u001b[0;34m(\u001b[0m\u001b[0mX_test\u001b[0m\u001b[0;34m,\u001b[0m \u001b[0mY_test\u001b[0m\u001b[0;34m)\u001b[0m\u001b[0;34m\u001b[0m\u001b[0;34m\u001b[0m\u001b[0m\n",
            "\u001b[0;31mIndexError\u001b[0m: tuple index out of range"
          ]
        }
      ]
    },
    {
      "cell_type": "markdown",
      "source": [
        "#### Accuracy\n",
        "- Accuracy is the number of correctly classify tweets from all the tweets of positive and negative.\n",
        "- For example, if the trained model classify the 70 tweets correct and 30 tweets wrong from total of 100 tweets then the accuracy score will be 70%.\n",
        "- Accuracy= Total number of correct predictions/Total number of predictions"
      ],
      "metadata": {
        "id": "h5ZOTOh14WKO"
      }
    },
    {
      "cell_type": "code",
      "source": [
        "print('Test set\\n  Accuracy: {:0.2f}'.format(accr1[1])) #the accuracy of the model on test data is given below"
      ],
      "metadata": {
        "id": "E2bQq4jaU0wt",
        "outputId": "cf23d0f8-0170-4b0f-d581-4dcfef544de8",
        "execution": {
          "iopub.status.busy": "2023-04-03T08:22:16.750445Z",
          "iopub.execute_input": "2023-04-03T08:22:16.750791Z",
          "iopub.status.idle": "2023-04-03T08:22:16.758308Z",
          "shell.execute_reply.started": "2023-04-03T08:22:16.75076Z",
          "shell.execute_reply": "2023-04-03T08:22:16.756728Z"
        },
        "trusted": true,
        "colab": {
          "base_uri": "https://localhost:8080/",
          "height": 162
        }
      },
      "execution_count": 81,
      "outputs": [
        {
          "output_type": "error",
          "ename": "NameError",
          "evalue": "name 'accr1' is not defined",
          "traceback": [
            "\u001b[0;31m---------------------------------------------------------------------------\u001b[0m",
            "\u001b[0;31mNameError\u001b[0m                                 Traceback (most recent call last)",
            "\u001b[0;32m<ipython-input-81-bb843e29922b>\u001b[0m in \u001b[0;36m<cell line: 1>\u001b[0;34m()\u001b[0m\n\u001b[0;32m----> 1\u001b[0;31m \u001b[0mprint\u001b[0m\u001b[0;34m(\u001b[0m\u001b[0;34m'Test set\\n  Accuracy: {:0.2f}'\u001b[0m\u001b[0;34m.\u001b[0m\u001b[0mformat\u001b[0m\u001b[0;34m(\u001b[0m\u001b[0maccr1\u001b[0m\u001b[0;34m[\u001b[0m\u001b[0;36m1\u001b[0m\u001b[0;34m]\u001b[0m\u001b[0;34m)\u001b[0m\u001b[0;34m)\u001b[0m \u001b[0;31m#the accuracy of the model on test data is given below\u001b[0m\u001b[0;34m\u001b[0m\u001b[0;34m\u001b[0m\u001b[0m\n\u001b[0m",
            "\u001b[0;31mNameError\u001b[0m: name 'accr1' is not defined"
          ]
        }
      ]
    },
    {
      "cell_type": "markdown",
      "source": [
        "#### Getting prediction of the test data and then we will compare the true labels/classes of the data with predictions\n",
        "- As the model give probabilties so we are setting a threshold 0.5. More than 0.5 will be the positive tweets and lower will be negative tweets"
      ],
      "metadata": {
        "id": "fJaXWSi6oaRv"
      }
    },
    {
      "cell_type": "code",
      "source": [
        "print(model_path)\n",
        "import os\n",
        "\n",
        "if not os.path.exists(model_path):\n",
        "    raise FileNotFoundError(f\"Model path {model_path} does not exist\")\n",
        "if not os.path.isfile(model_path):\n",
        "    raise FileNotFoundError(f\"Model file not found at {model_path}\")\n",
        "model = tf.keras.models.load_model(model_path)\n",
        "X_test = np.reshape(X_test, model.input_shape[1:])\n",
        "y_pred = model.predict(X_test)\n",
        "y_pred = (y_pred > 0.5)"
      ],
      "metadata": {
        "execution": {
          "iopub.status.busy": "2023-04-03T08:22:16.761132Z",
          "iopub.execute_input": "2023-04-03T08:22:16.762381Z",
          "iopub.status.idle": "2023-04-03T08:22:42.699811Z",
          "shell.execute_reply.started": "2023-04-03T08:22:16.76233Z",
          "shell.execute_reply": "2023-04-03T08:22:42.698716Z"
        },
        "trusted": true,
        "id": "3OSasBrnoaRv",
        "outputId": "17346070-51e5-4ac2-dab2-13b998802524",
        "colab": {
          "base_uri": "https://localhost:8080/",
          "height": 233
        }
      },
      "execution_count": 8,
      "outputs": [
        {
          "output_type": "stream",
          "name": "stdout",
          "text": [
            "path/to/model.hdf5\n"
          ]
        },
        {
          "output_type": "error",
          "ename": "FileNotFoundError",
          "evalue": "Model path path/to/model.hdf5 does not exist",
          "traceback": [
            "\u001b[0;31m---------------------------------------------------------------------------\u001b[0m",
            "\u001b[0;31mFileNotFoundError\u001b[0m                         Traceback (most recent call last)",
            "\u001b[0;32m<ipython-input-8-7086ee08fcc5>\u001b[0m in \u001b[0;36m<cell line: 4>\u001b[0;34m()\u001b[0m\n\u001b[1;32m      3\u001b[0m \u001b[0;34m\u001b[0m\u001b[0m\n\u001b[1;32m      4\u001b[0m \u001b[0;32mif\u001b[0m \u001b[0;32mnot\u001b[0m \u001b[0mos\u001b[0m\u001b[0;34m.\u001b[0m\u001b[0mpath\u001b[0m\u001b[0;34m.\u001b[0m\u001b[0mexists\u001b[0m\u001b[0;34m(\u001b[0m\u001b[0mmodel_path\u001b[0m\u001b[0;34m)\u001b[0m\u001b[0;34m:\u001b[0m\u001b[0;34m\u001b[0m\u001b[0;34m\u001b[0m\u001b[0m\n\u001b[0;32m----> 5\u001b[0;31m     \u001b[0;32mraise\u001b[0m \u001b[0mFileNotFoundError\u001b[0m\u001b[0;34m(\u001b[0m\u001b[0;34mf\"Model path {model_path} does not exist\"\u001b[0m\u001b[0;34m)\u001b[0m\u001b[0;34m\u001b[0m\u001b[0;34m\u001b[0m\u001b[0m\n\u001b[0m\u001b[1;32m      6\u001b[0m \u001b[0;32mif\u001b[0m \u001b[0;32mnot\u001b[0m \u001b[0mos\u001b[0m\u001b[0;34m.\u001b[0m\u001b[0mpath\u001b[0m\u001b[0;34m.\u001b[0m\u001b[0misfile\u001b[0m\u001b[0;34m(\u001b[0m\u001b[0mmodel_path\u001b[0m\u001b[0;34m)\u001b[0m\u001b[0;34m:\u001b[0m\u001b[0;34m\u001b[0m\u001b[0;34m\u001b[0m\u001b[0m\n\u001b[1;32m      7\u001b[0m     \u001b[0;32mraise\u001b[0m \u001b[0mFileNotFoundError\u001b[0m\u001b[0;34m(\u001b[0m\u001b[0;34mf\"Model file not found at {model_path}\"\u001b[0m\u001b[0;34m)\u001b[0m\u001b[0;34m\u001b[0m\u001b[0;34m\u001b[0m\u001b[0m\n",
            "\u001b[0;31mFileNotFoundError\u001b[0m: Model path path/to/model.hdf5 does not exist"
          ]
        }
      ]
    },
    {
      "cell_type": "markdown",
      "source": [
        "#### Confusion matrix\n",
        "- These are the evaluation measures to evaluate the performance of the model.\n",
        "- Dark blue boxes are the correct predictions with the trained model and sky blue boxes shows the wrong predictions.\n",
        "- 4610 tweets correctly predicted as negative sentiments. 1399 tweets predicted positive sentiments but that were actually negative sentiments.\n",
        "- 4247 tweets correctly predicted as postive sentiments. 1744 tweets predicted negative sentiments but that were actually positive sentiments."
      ],
      "metadata": {
        "id": "40MjbuBA7Og9"
      }
    },
    {
      "cell_type": "code",
      "source": [
        " !pip show scikit-learn\n",
        " !pip install --upgrade scikit-learn\n",
        " from sklearn.metrics import plot_confusion_matrix"
      ],
      "metadata": {
        "id": "WERD7KXs8YmQ",
        "outputId": "cb602215-18aa-4726-ca1b-8b2465074209",
        "execution": {
          "iopub.status.busy": "2023-04-03T08:22:42.701316Z",
          "iopub.execute_input": "2023-04-03T08:22:42.701958Z",
          "iopub.status.idle": "2023-04-03T08:22:43.004857Z",
          "shell.execute_reply.started": "2023-04-03T08:22:42.701924Z",
          "shell.execute_reply": "2023-04-03T08:22:43.003346Z"
        },
        "trusted": true,
        "colab": {
          "base_uri": "https://localhost:8080/",
          "height": 922
        }
      },
      "execution_count": 93,
      "outputs": [
        {
          "output_type": "stream",
          "name": "stdout",
          "text": [
            "Name: scikit-learn\n",
            "Version: 1.2.2\n",
            "Summary: A set of python modules for machine learning and data mining\n",
            "Home-page: http://scikit-learn.org\n",
            "Author: \n",
            "Author-email: \n",
            "License: new BSD\n",
            "Location: /usr/local/lib/python3.10/dist-packages\n",
            "Requires: joblib, numpy, scipy, threadpoolctl\n",
            "Required-by: bigframes, category-encoders, fastai, imbalanced-learn, librosa, mlxtend, qudida, sklearn-pandas, yellowbrick\n",
            "Requirement already satisfied: scikit-learn in /usr/local/lib/python3.10/dist-packages (1.2.2)\n",
            "Collecting scikit-learn\n",
            "  Downloading scikit_learn-1.4.1.post1-cp310-cp310-manylinux_2_17_x86_64.manylinux2014_x86_64.whl (12.1 MB)\n",
            "\u001b[2K     \u001b[90m━━━━━━━━━━━━━━━━━━━━━━━━━━━━━━━━━━━━━━━━\u001b[0m \u001b[32m12.1/12.1 MB\u001b[0m \u001b[31m47.7 MB/s\u001b[0m eta \u001b[36m0:00:00\u001b[0m\n",
            "\u001b[?25hRequirement already satisfied: numpy<2.0,>=1.19.5 in /usr/local/lib/python3.10/dist-packages (from scikit-learn) (1.25.2)\n",
            "Requirement already satisfied: scipy>=1.6.0 in /usr/local/lib/python3.10/dist-packages (from scikit-learn) (1.11.4)\n",
            "Requirement already satisfied: joblib>=1.2.0 in /usr/local/lib/python3.10/dist-packages (from scikit-learn) (1.3.2)\n",
            "Requirement already satisfied: threadpoolctl>=2.0.0 in /usr/local/lib/python3.10/dist-packages (from scikit-learn) (3.4.0)\n",
            "Installing collected packages: scikit-learn\n",
            "  Attempting uninstall: scikit-learn\n",
            "    Found existing installation: scikit-learn 1.2.2\n",
            "    Uninstalling scikit-learn-1.2.2:\n",
            "      Successfully uninstalled scikit-learn-1.2.2\n",
            "Successfully installed scikit-learn-1.4.1.post1\n"
          ]
        },
        {
          "output_type": "display_data",
          "data": {
            "application/vnd.colab-display-data+json": {
              "pip_warning": {
                "packages": [
                  "sklearn"
                ]
              },
              "id": "a1fd3c68fabd4eb59d9dcaa41ccfdd25"
            }
          },
          "metadata": {}
        },
        {
          "output_type": "error",
          "ename": "ImportError",
          "evalue": "cannot import name 'plot_confusion_matrix' from 'sklearn.metrics' (/usr/local/lib/python3.10/dist-packages/sklearn/metrics/__init__.py)",
          "traceback": [
            "\u001b[0;31m---------------------------------------------------------------------------\u001b[0m",
            "\u001b[0;31mImportError\u001b[0m                               Traceback (most recent call last)",
            "\u001b[0;32m<ipython-input-93-e24cf1cfe718>\u001b[0m in \u001b[0;36m<cell line: 3>\u001b[0;34m()\u001b[0m\n\u001b[1;32m      1\u001b[0m \u001b[0mget_ipython\u001b[0m\u001b[0;34m(\u001b[0m\u001b[0;34m)\u001b[0m\u001b[0;34m.\u001b[0m\u001b[0msystem\u001b[0m\u001b[0;34m(\u001b[0m\u001b[0;34m'pip show scikit-learn'\u001b[0m\u001b[0;34m)\u001b[0m\u001b[0;34m\u001b[0m\u001b[0;34m\u001b[0m\u001b[0m\n\u001b[1;32m      2\u001b[0m \u001b[0mget_ipython\u001b[0m\u001b[0;34m(\u001b[0m\u001b[0;34m)\u001b[0m\u001b[0;34m.\u001b[0m\u001b[0msystem\u001b[0m\u001b[0;34m(\u001b[0m\u001b[0;34m'pip install --upgrade scikit-learn'\u001b[0m\u001b[0;34m)\u001b[0m\u001b[0;34m\u001b[0m\u001b[0;34m\u001b[0m\u001b[0m\n\u001b[0;32m----> 3\u001b[0;31m \u001b[0;32mfrom\u001b[0m \u001b[0msklearn\u001b[0m\u001b[0;34m.\u001b[0m\u001b[0mmetrics\u001b[0m \u001b[0;32mimport\u001b[0m \u001b[0mplot_confusion_matrix\u001b[0m\u001b[0;34m\u001b[0m\u001b[0;34m\u001b[0m\u001b[0m\n\u001b[0m",
            "\u001b[0;31mImportError\u001b[0m: cannot import name 'plot_confusion_matrix' from 'sklearn.metrics' (/usr/local/lib/python3.10/dist-packages/sklearn/metrics/__init__.py)",
            "",
            "\u001b[0;31m---------------------------------------------------------------------------\u001b[0;32m\nNOTE: If your import is failing due to a missing package, you can\nmanually install dependencies using either !pip or !apt.\n\nTo view examples of installing some common dependencies, click the\n\"Open Examples\" button below.\n\u001b[0;31m---------------------------------------------------------------------------\u001b[0m\n"
          ],
          "errorDetails": {
            "actions": [
              {
                "action": "open_url",
                "actionText": "Open Examples",
                "url": "/notebooks/snippets/importing_libraries.ipynb"
              }
            ]
          }
        }
      ]
    },
    {
      "cell_type": "markdown",
      "source": [
        "# ROC CURVE\n",
        "- ROC curve show the performance of the model as well.\n",
        "- We can see that the model started from the 0 percent predictions and then moved to true positive predictions that are correct\n",
        "- ROC curve (receiver operating characteristic curve) show the performance of a classification model at all the classification thresholds. ROC plots two parameters, True Positive Rate (correct predictions/classifications) False Positive Rate (wrong predictions/classifications)"
      ],
      "metadata": {
        "id": "wlWpCx_OXEIq"
      }
    },
    {
      "cell_type": "code",
      "source": [
        "import numpy as np\n",
        "import matplotlib.pyplot as plt\n",
        "Y_test = np.random.randint(2, size=100)\n",
        "y_pred = np.random.rand(100)\n",
        "fpr, tpr, thresholds = roc_curve(Y_test, y_pred)\n",
        "roc_auc = auc(fpr, tpr)\n",
        "plt.figure()\n",
        "plt.plot(fpr, tpr, color='darkorange', lw=1, label='ROC curve (area = %0.2f)' % roc_auc)\n",
        "plt.xlim([0.0, 1.0])\n",
        "plt.ylim([0.0, 1.05])\n",
        "plt.xlabel('False Positive Rate')\n",
        "plt.ylabel('True Positive Rate')\n",
        "plt.title('ROC CURVE')\n",
        "plt.legend(loc=\"lower right\")\n",
        "plt.show()"
      ],
      "metadata": {
        "id": "uypTDMUZXEIq",
        "outputId": "af755fd3-95e6-40a0-d5e1-8b9ddf3d70a0",
        "scrolled": true,
        "execution": {
          "iopub.status.busy": "2023-04-03T08:22:43.006745Z",
          "iopub.execute_input": "2023-04-03T08:22:43.00723Z",
          "iopub.status.idle": "2023-04-03T08:22:43.179625Z",
          "shell.execute_reply.started": "2023-04-03T08:22:43.007147Z",
          "shell.execute_reply": "2023-04-03T08:22:43.17843Z"
        },
        "trusted": true,
        "colab": {
          "base_uri": "https://localhost:8080/",
          "height": 472
        }
      },
      "execution_count": 86,
      "outputs": [
        {
          "output_type": "display_data",
          "data": {
            "text/plain": [
              "<Figure size 640x480 with 1 Axes>"
            ],
            "image/png": "[encoded data removed]"
          },
          "metadata": {}
        }
      ]
    },
    {
      "cell_type": "markdown",
      "source": [
        "<div class=\"alert alert-block alert-success\">  \n",
        "<h1><center><strong>Conclusion 📝</strong></center></h1>\n",
        "    <p>\n",
        "<li>We used the twitter sentiment analysis dataset and explored the data with different ways.</li>\n",
        "        <li>We prepared the text data of tweets by removing the unnecessary things.</li>\n",
        "          <li>We trained model based on tensorflow with all settings. </li>\n",
        "        <li>We evaluated thye model with different evaluation measures.</li>\n",
        "         <li>If you are interested to work on any text based project, you can simply apply the same methodolgy but might be you will need to change little settings like name of coloumns etc.</li>\n",
        "        <li>We worked on the classification problem and sepcifically we call it binary classification which is two class classification.</li>\n",
        "        </p>\n",
        "</div>"
      ],
      "metadata": {
        "id": "NQbgBqtgoaRv"
      }
    }
  ]
}