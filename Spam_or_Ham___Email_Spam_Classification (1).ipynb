{
  "metadata": {
    "kernelspec": {
      "language": "python",
      "display_name": "Python 3",
      "name": "python3"
    },
    "language_info": {
      "pygments_lexer": "ipython3",
      "nbconvert_exporter": "python",
      "version": "3.6.4",
      "file_extension": ".py",
      "codemirror_mode": {
        "name": "ipython",
        "version": 3
      },
      "name": "python",
      "mimetype": "text/x-python"
    },
    "colab": {
      "name": "Spam or Ham | Email Spam Classification",
      "provenance": []
    }
  },
  "nbformat_minor": 0,
  "nbformat": 4,
  "cells": [
    {
      "cell_type": "code",
      "source": [
        "!pip install optuna --q # For tuning hyperparameters"
      ],
      "metadata": {
        "id": "YDBViMAEwhut"
      },
      "execution_count": null,
      "outputs": []
    },
    {
      "cell_type": "code",
      "source": [
        "import pandas as pd # Python library for data analysis and data frame\n",
        "import numpy as np # Numerical Python library for linear algebra and computations\n",
        "pd.set_option('display.max_columns', None) # code to display all columns\n",
        "\n",
        "# Visualisation libraries\n",
        "import matplotlib.pyplot as plt\n",
        "import seaborn as sns\n",
        "from wordcloud import WordCloud\n",
        "\n",
        "# libraries for text processing and handling text data\n",
        "import string\n",
        "import nltk\n",
        "from nltk.corpus import stopwords\n",
        "from nltk.stem.snowball import SnowballStemmer\n",
        "from sklearn.feature_extraction.text import TfidfVectorizer\n",
        "\n",
        "from sklearn.model_selection import train_test_split, cross_val_score, cross_validate\n",
        "\n",
        "from collections import Counter\n",
        "\n",
        "# all the required models\n",
        "from sklearn.naive_bayes import GaussianNB,MultinomialNB,BernoulliNB\n",
        "from sklearn.linear_model import LogisticRegression, SGDClassifier\n",
        "from sklearn.svm import SVC\n",
        "from sklearn.naive_bayes import MultinomialNB\n",
        "from sklearn.tree import DecisionTreeClassifier\n",
        "from sklearn.neighbors import KNeighborsClassifier\n",
        "from sklearn.ensemble import RandomForestClassifier, AdaBoostClassifier, BaggingClassifier, ExtraTreesClassifier, GradientBoostingClassifier\n",
        "from xgboost import XGBClassifier\n",
        "from catboost import CatBoostClassifier\n",
        "from lightgbm import LGBMClassifier\n",
        "\n",
        "# for model evaluation\n",
        "from sklearn.metrics import accuracy_score,confusion_matrix,precision_score\n",
        "\n",
        "# for hyperparameter tuning\n",
        "import optuna\n",
        "\n",
        "# to save the required files\n",
        "import pickle\n",
        "\n",
        "import warnings\n",
        "warnings.filterwarnings('ignore') # To prevent kernel from showing any warning"
      ],
      "metadata": {
        "execution": {
          "iopub.status.busy": "2022-10-21T04:25:04.119364Z",
          "iopub.execute_input": "2022-10-21T04:25:04.120144Z",
          "iopub.status.idle": "2022-10-21T04:25:07.711526Z",
          "shell.execute_reply.started": "2022-10-21T04:25:04.119983Z",
          "shell.execute_reply": "2022-10-21T04:25:07.710102Z"
        },
        "trusted": true,
        "id": "YmhdTV8Iwhut"
      },
      "execution_count": null,
      "outputs": []
    },
    {
      "cell_type": "code",
      "source": [
        "# loading the dataset\n",
        "df = pd.read_csv('../input/email-spam-dataset/completeSpamAssassin.csv')\n",
        "df.head()"
      ],
      "metadata": {
        "execution": {
          "iopub.status.busy": "2022-10-21T04:25:07.71547Z",
          "iopub.execute_input": "2022-10-21T04:25:07.716082Z",
          "iopub.status.idle": "2022-10-21T04:25:08.031096Z",
          "shell.execute_reply.started": "2022-10-21T04:25:07.716026Z",
          "shell.execute_reply": "2022-10-21T04:25:08.029727Z"
        },
        "trusted": true,
        "id": "gydVTQxuwhut"
      },
      "execution_count": null,
      "outputs": []
    },
    {
      "cell_type": "markdown",
      "source": [
        "# <p style=\"background-color:#562F5E;font-family:verdana;color:white;font-size:100%;text-align:center;letter-spacing:0.5px;padding: 10px\"> INITIAL ANALYSIS </p>"
      ],
      "metadata": {
        "id": "yFiVORXNwhut"
      }
    },
    {
      "cell_type": "code",
      "source": [
        "#How big is data?\n",
        "df.shape"
      ],
      "metadata": {
        "execution": {
          "iopub.status.busy": "2022-10-21T04:25:08.033216Z",
          "iopub.execute_input": "2022-10-21T04:25:08.03433Z",
          "iopub.status.idle": "2022-10-21T04:25:08.042647Z",
          "shell.execute_reply.started": "2022-10-21T04:25:08.034269Z",
          "shell.execute_reply": "2022-10-21T04:25:08.041118Z"
        },
        "trusted": true,
        "id": "b2YdhVwRwhut"
      },
      "execution_count": null,
      "outputs": []
    },
    {
      "cell_type": "code",
      "source": [
        "# What is the data type of cols?\n",
        "df.info()"
      ],
      "metadata": {
        "execution": {
          "iopub.status.busy": "2022-10-21T04:25:08.045941Z",
          "iopub.execute_input": "2022-10-21T04:25:08.046496Z",
          "iopub.status.idle": "2022-10-21T04:25:08.073469Z",
          "shell.execute_reply.started": "2022-10-21T04:25:08.04644Z",
          "shell.execute_reply": "2022-10-21T04:25:08.071937Z"
        },
        "trusted": true,
        "id": "6pf7Vrcpwhut"
      },
      "execution_count": null,
      "outputs": []
    },
    {
      "cell_type": "code",
      "source": [
        "# Are there any missing values?\n",
        "df.isnull().sum()"
      ],
      "metadata": {
        "execution": {
          "iopub.status.busy": "2022-10-21T04:25:10.963344Z",
          "iopub.execute_input": "2022-10-21T04:25:10.964162Z",
          "iopub.status.idle": "2022-10-21T04:25:10.976294Z",
          "shell.execute_reply.started": "2022-10-21T04:25:10.964121Z",
          "shell.execute_reply": "2022-10-21T04:25:10.974968Z"
        },
        "trusted": true,
        "id": "fLORIx_bwhut"
      },
      "execution_count": null,
      "outputs": []
    },
    {
      "cell_type": "code",
      "source": [
        "# Are there any duplicate values?\n",
        "df.duplicated().sum()"
      ],
      "metadata": {
        "execution": {
          "iopub.status.busy": "2022-10-21T04:25:11.343408Z",
          "iopub.execute_input": "2022-10-21T04:25:11.343902Z",
          "iopub.status.idle": "2022-10-21T04:25:11.364555Z",
          "shell.execute_reply.started": "2022-10-21T04:25:11.343861Z",
          "shell.execute_reply": "2022-10-21T04:25:11.363028Z"
        },
        "trusted": true,
        "id": "7g_GuNFLwhuu"
      },
      "execution_count": null,
      "outputs": []
    },
    {
      "cell_type": "code",
      "source": [
        "# dropping null values\n",
        "df.dropna(inplace=True)"
      ],
      "metadata": {
        "execution": {
          "iopub.status.busy": "2022-10-21T04:25:12.393153Z",
          "iopub.execute_input": "2022-10-21T04:25:12.39368Z",
          "iopub.status.idle": "2022-10-21T04:25:12.406429Z",
          "shell.execute_reply.started": "2022-10-21T04:25:12.393635Z",
          "shell.execute_reply": "2022-10-21T04:25:12.404762Z"
        },
        "trusted": true,
        "id": "ZqVtqoZhwhuu"
      },
      "execution_count": null,
      "outputs": []
    },
    {
      "cell_type": "code",
      "source": [
        "# dropping redudant column\n",
        "df.drop(['Unnamed: 0'],axis=1, inplace=True)"
      ],
      "metadata": {
        "execution": {
          "iopub.status.busy": "2022-10-21T04:25:12.748452Z",
          "iopub.execute_input": "2022-10-21T04:25:12.749864Z",
          "iopub.status.idle": "2022-10-21T04:25:12.757986Z",
          "shell.execute_reply.started": "2022-10-21T04:25:12.749809Z",
          "shell.execute_reply": "2022-10-21T04:25:12.756594Z"
        },
        "trusted": true,
        "id": "ZZ-YTqAawhuu"
      },
      "execution_count": null,
      "outputs": []
    },
    {
      "cell_type": "code",
      "source": [
        "#Adding a column of numbers of charachters,words and sentences in each mail\n",
        "\n",
        "df['no_char'] = df['Body'].apply(len)\n",
        "df['no_words'] = df['Body'].apply(lambda x:len(nltk.word_tokenize(x)))\n",
        "df['no_sent'] = df['Body'].apply(lambda x:len(nltk.sent_tokenize(x)))"
      ],
      "metadata": {
        "execution": {
          "iopub.status.busy": "2022-10-21T04:25:13.467011Z",
          "iopub.execute_input": "2022-10-21T04:25:13.468706Z",
          "iopub.status.idle": "2022-10-21T04:25:29.342737Z",
          "shell.execute_reply.started": "2022-10-21T04:25:13.468606Z",
          "shell.execute_reply": "2022-10-21T04:25:29.341282Z"
        },
        "trusted": true,
        "id": "IQSyQfDJwhuu"
      },
      "execution_count": null,
      "outputs": []
    },
    {
      "cell_type": "code",
      "source": [
        "df.head()"
      ],
      "metadata": {
        "execution": {
          "iopub.status.busy": "2022-10-21T04:25:29.34531Z",
          "iopub.execute_input": "2022-10-21T04:25:29.346131Z",
          "iopub.status.idle": "2022-10-21T04:25:29.363699Z",
          "shell.execute_reply.started": "2022-10-21T04:25:29.346071Z",
          "shell.execute_reply": "2022-10-21T04:25:29.361883Z"
        },
        "trusted": true,
        "id": "ZKt-cmJ3whuu"
      },
      "execution_count": null,
      "outputs": []
    },
    {
      "cell_type": "code",
      "source": [
        "# Let's see the distribution of target variable\n",
        "plt.figure(figsize=(12,6))\n",
        "plt.pie(df['Label'].value_counts(), labels=['ham','spam'], autopct='%0.2f')\n",
        "plt.show()"
      ],
      "metadata": {
        "execution": {
          "iopub.status.busy": "2022-10-21T04:25:29.366382Z",
          "iopub.execute_input": "2022-10-21T04:25:29.367061Z",
          "iopub.status.idle": "2022-10-21T04:25:29.549666Z",
          "shell.execute_reply.started": "2022-10-21T04:25:29.367009Z",
          "shell.execute_reply": "2022-10-21T04:25:29.547761Z"
        },
        "trusted": true,
        "id": "5XU_M85Kwhuu"
      },
      "execution_count": null,
      "outputs": []
    },
    {
      "cell_type": "code",
      "source": [
        "# Lets see the distribution of number of words in spam and ham emails\n",
        "plt.figure(figsize=(12,6))\n",
        "sns.histplot(df[df['Label'] == 0]['no_words'])\n",
        "sns.histplot(df[df['Label'] == 1]['no_words'], color='red')\n",
        "plt.show()"
      ],
      "metadata": {
        "execution": {
          "iopub.status.busy": "2022-10-21T04:25:29.554167Z",
          "iopub.execute_input": "2022-10-21T04:25:29.55615Z",
          "iopub.status.idle": "2022-10-21T04:25:31.515459Z",
          "shell.execute_reply.started": "2022-10-21T04:25:29.556065Z",
          "shell.execute_reply": "2022-10-21T04:25:31.513903Z"
        },
        "trusted": true,
        "id": "o55_pQ8-whuu"
      },
      "execution_count": null,
      "outputs": []
    },
    {
      "cell_type": "code",
      "source": [
        "sns.pairplot(df, hue='Label')\n",
        "plt.show()"
      ],
      "metadata": {
        "execution": {
          "iopub.status.busy": "2022-10-21T04:25:31.516982Z",
          "iopub.execute_input": "2022-10-21T04:25:31.517405Z",
          "iopub.status.idle": "2022-10-21T04:25:36.13501Z",
          "shell.execute_reply.started": "2022-10-21T04:25:31.517368Z",
          "shell.execute_reply": "2022-10-21T04:25:36.13387Z"
        },
        "trusted": true,
        "id": "WWIvFplOwhuu"
      },
      "execution_count": null,
      "outputs": []
    },
    {
      "cell_type": "code",
      "source": [
        "sns.heatmap(df.corr(), annot=True)\n",
        "plt.show()"
      ],
      "metadata": {
        "execution": {
          "iopub.status.busy": "2022-10-21T04:25:36.136661Z",
          "iopub.execute_input": "2022-10-21T04:25:36.137862Z",
          "iopub.status.idle": "2022-10-21T04:25:36.369076Z",
          "shell.execute_reply.started": "2022-10-21T04:25:36.137815Z",
          "shell.execute_reply": "2022-10-21T04:25:36.367648Z"
        },
        "trusted": true,
        "id": "bcFEeV19whuu"
      },
      "execution_count": null,
      "outputs": []
    },
    {
      "cell_type": "markdown",
      "source": [
        "# <p style=\"background-color:#562F5E;font-family:verdana;color:white;font-size:100%;text-align:center;letter-spacing:0.5px;padding: 10px\"> TEXT PREPROCESSING </p>"
      ],
      "metadata": {
        "id": "hPOHaPDHwhuu"
      }
    },
    {
      "cell_type": "code",
      "source": [
        "def text_preprocessing(text):\n",
        "    # convert  text to lowecase\n",
        "    text = text.lower()\n",
        "\n",
        "    # creating list of words in email\n",
        "    text = nltk.word_tokenize(text)\n",
        "\n",
        "    # removing special charecters\n",
        "    y = []\n",
        "    for i in text:\n",
        "        if i.isalnum():\n",
        "            y.append(i)\n",
        "\n",
        "    # copying processed text to text and clearing y to store next steps output\n",
        "    text = y[:]\n",
        "    y.clear()\n",
        "\n",
        "    # removing stopwords and punctuation marks\n",
        "    for i in text:\n",
        "        if i not in stopwords.words('english') and i not in string.punctuation:\n",
        "            y.append(i)\n",
        "\n",
        "    text = y[:]\n",
        "    y.clear()\n",
        "\n",
        "    # stemming\n",
        "    stemmer = SnowballStemmer('english')\n",
        "    for i in text:\n",
        "        y.append(stemmer.stem(i))\n",
        "\n",
        "    return \" \".join(y)"
      ],
      "metadata": {
        "execution": {
          "iopub.status.busy": "2022-10-21T04:25:36.371009Z",
          "iopub.execute_input": "2022-10-21T04:25:36.371577Z",
          "iopub.status.idle": "2022-10-21T04:25:36.381793Z",
          "shell.execute_reply.started": "2022-10-21T04:25:36.371533Z",
          "shell.execute_reply": "2022-10-21T04:25:36.379987Z"
        },
        "trusted": true,
        "id": "VMFqScFQwhuu"
      },
      "execution_count": null,
      "outputs": []
    },
    {
      "cell_type": "code",
      "source": [
        "# applying function to text\n",
        "df['clean_text'] = df['Body'].apply(text_preprocessing)"
      ],
      "metadata": {
        "execution": {
          "iopub.status.busy": "2022-10-21T04:25:36.383963Z",
          "iopub.execute_input": "2022-10-21T04:25:36.384479Z",
          "iopub.status.idle": "2022-10-21T04:29:22.966096Z",
          "shell.execute_reply.started": "2022-10-21T04:25:36.384427Z",
          "shell.execute_reply": "2022-10-21T04:29:22.964578Z"
        },
        "trusted": true,
        "id": "gtLwWn7Nwhuu"
      },
      "execution_count": null,
      "outputs": []
    },
    {
      "cell_type": "markdown",
      "source": [
        "# <p style=\"background-color:#562F5E;font-family:verdana;color:white;font-size:100%;text-align:center;letter-spacing:0.5px;padding: 10px\"> EDA - II </p>"
      ],
      "metadata": {
        "id": "q-FC2o92whuu"
      }
    },
    {
      "cell_type": "code",
      "source": [
        "# setting specs of word cloud image\n",
        "wc = WordCloud(width=1000, height=500, min_font_size=10, background_color='black')"
      ],
      "metadata": {
        "execution": {
          "iopub.status.busy": "2022-10-20T07:04:05.78339Z",
          "iopub.execute_input": "2022-10-20T07:04:05.783849Z",
          "iopub.status.idle": "2022-10-20T07:04:05.789867Z",
          "shell.execute_reply.started": "2022-10-20T07:04:05.783806Z",
          "shell.execute_reply": "2022-10-20T07:04:05.788717Z"
        },
        "trusted": true,
        "id": "zCX6oiIZwhuu"
      },
      "execution_count": null,
      "outputs": []
    },
    {
      "cell_type": "code",
      "source": [
        "# creating word cloud of spam emails\n",
        "spam_wc = wc.generate(df[df['Label'] == 1]['clean_text'].str.cat(sep=' '))\n",
        "\n",
        "plt.figure(figsize=(20,8))\n",
        "plt.imshow(spam_wc)"
      ],
      "metadata": {
        "execution": {
          "iopub.status.busy": "2022-10-20T07:04:05.794818Z",
          "iopub.execute_input": "2022-10-20T07:04:05.79552Z",
          "iopub.status.idle": "2022-10-20T07:04:08.448955Z",
          "shell.execute_reply.started": "2022-10-20T07:04:05.795482Z",
          "shell.execute_reply": "2022-10-20T07:04:08.447806Z"
        },
        "trusted": true,
        "id": "eFNIjhTuwhuu"
      },
      "execution_count": null,
      "outputs": []
    },
    {
      "cell_type": "code",
      "source": [
        "# creating word cloud of ham emails\n",
        "ham_wc = wc.generate(df[df['Label'] == 0]['clean_text'].str.cat(sep=' '))\n",
        "\n",
        "plt.figure(figsize=(20,8))\n",
        "plt.imshow(ham_wc)"
      ],
      "metadata": {
        "execution": {
          "iopub.status.busy": "2022-10-20T07:04:08.450607Z",
          "iopub.execute_input": "2022-10-20T07:04:08.450937Z",
          "iopub.status.idle": "2022-10-20T07:04:14.219457Z",
          "shell.execute_reply.started": "2022-10-20T07:04:08.450907Z",
          "shell.execute_reply": "2022-10-20T07:04:14.218309Z"
        },
        "trusted": true,
        "id": "06CbRmQ-whuu"
      },
      "execution_count": null,
      "outputs": []
    },
    {
      "cell_type": "code",
      "source": [
        "# creating list of all the words in processed spam emails\n",
        "spam_corpus = []\n",
        "for mail in df[df['Label'] == 1]['clean_text'].tolist():\n",
        "    for word in mail.split():\n",
        "        spam_corpus.append(word)\n",
        "\n",
        "# number of words in all spam mails\n",
        "len(spam_corpus)"
      ],
      "metadata": {
        "execution": {
          "iopub.status.busy": "2022-10-20T07:04:14.221065Z",
          "iopub.execute_input": "2022-10-20T07:04:14.221459Z",
          "iopub.status.idle": "2022-10-20T07:04:14.286349Z",
          "shell.execute_reply.started": "2022-10-20T07:04:14.221423Z",
          "shell.execute_reply": "2022-10-20T07:04:14.285516Z"
        },
        "trusted": true,
        "id": "V0_skUEhwhuv"
      },
      "execution_count": null,
      "outputs": []
    },
    {
      "cell_type": "code",
      "source": [
        "# top 50 most occuring words in spam mails\n",
        "plt.figure(figsize=(20,8))\n",
        "sns.barplot(pd.DataFrame(Counter(spam_corpus).most_common(50))[0],pd.DataFrame(Counter(spam_corpus).most_common(50))[1])\n",
        "plt.xticks(rotation='vertical')\n",
        "plt.show()"
      ],
      "metadata": {
        "execution": {
          "iopub.status.busy": "2022-10-20T07:04:14.287419Z",
          "iopub.execute_input": "2022-10-20T07:04:14.288394Z",
          "iopub.status.idle": "2022-10-20T07:04:15.138958Z",
          "shell.execute_reply.started": "2022-10-20T07:04:14.288361Z",
          "shell.execute_reply": "2022-10-20T07:04:15.13773Z"
        },
        "trusted": true,
        "id": "6LqKTXfawhuv"
      },
      "execution_count": null,
      "outputs": []
    },
    {
      "cell_type": "code",
      "source": [
        "# creating list of all the words in processed ham emails\n",
        "ham_corpus = []\n",
        "for mail in df[df['Label'] == 0]['clean_text'].tolist():\n",
        "    for word in mail.split():\n",
        "        ham_corpus.append(word)\n",
        "\n",
        "# number of words in all ham mails\n",
        "len(ham_corpus)"
      ],
      "metadata": {
        "execution": {
          "iopub.status.busy": "2022-10-20T07:04:15.140555Z",
          "iopub.execute_input": "2022-10-20T07:04:15.141727Z",
          "iopub.status.idle": "2022-10-20T07:04:15.267393Z",
          "shell.execute_reply.started": "2022-10-20T07:04:15.141685Z",
          "shell.execute_reply": "2022-10-20T07:04:15.266277Z"
        },
        "trusted": true,
        "id": "Qiz75JBPwhuv"
      },
      "execution_count": null,
      "outputs": []
    },
    {
      "cell_type": "code",
      "source": [
        "# top 50 most occuring words in ham mails\n",
        "plt.figure(figsize=(20,8))\n",
        "sns.barplot(pd.DataFrame(Counter(ham_corpus).most_common(50))[0],pd.DataFrame(Counter(ham_corpus).most_common(50))[1])\n",
        "plt.xticks(rotation='vertical')\n",
        "plt.show()"
      ],
      "metadata": {
        "execution": {
          "iopub.status.busy": "2022-10-20T07:04:15.269025Z",
          "iopub.execute_input": "2022-10-20T07:04:15.269429Z",
          "iopub.status.idle": "2022-10-20T07:04:16.184138Z",
          "shell.execute_reply.started": "2022-10-20T07:04:15.269396Z",
          "shell.execute_reply": "2022-10-20T07:04:16.182958Z"
        },
        "trusted": true,
        "id": "gwauDDSxwhuv"
      },
      "execution_count": null,
      "outputs": []
    },
    {
      "cell_type": "markdown",
      "source": [
        "# <p style=\"background-color:#562F5E;font-family:verdana;color:white;font-size:100%;text-align:center;letter-spacing:0.5px;padding: 10px\"> TRAIN TEST SPLIT </p>"
      ],
      "metadata": {
        "id": "P3rye342whuw"
      }
    },
    {
      "cell_type": "code",
      "source": [
        "#Changing text data in to numbers.\n",
        "\n",
        "# tfidf = TfidfVectorizer()\n",
        "tfidf = TfidfVectorizer(max_features=17000)\n",
        "\n",
        "# Setting up features and target as x and y\n",
        "x = tfidf.fit_transform(df['clean_text']).toarray()\n",
        "y = df['Label'].values"
      ],
      "metadata": {
        "execution": {
          "iopub.status.busy": "2022-10-21T04:29:22.97054Z",
          "iopub.execute_input": "2022-10-21T04:29:22.971199Z",
          "iopub.status.idle": "2022-10-21T04:29:24.866297Z",
          "shell.execute_reply.started": "2022-10-21T04:29:22.971136Z",
          "shell.execute_reply": "2022-10-21T04:29:24.864446Z"
        },
        "trusted": true,
        "id": "wRLOQNmQwhuw"
      },
      "execution_count": null,
      "outputs": []
    },
    {
      "cell_type": "code",
      "source": [
        "# Splitting the testing and training sets\n",
        "x_train,x_test,y_train,y_test = train_test_split(x,y,test_size=0.2,random_state=0)"
      ],
      "metadata": {
        "execution": {
          "iopub.status.busy": "2022-10-21T04:29:24.881745Z",
          "iopub.execute_input": "2022-10-21T04:29:24.882299Z",
          "iopub.status.idle": "2022-10-21T04:29:25.573042Z",
          "shell.execute_reply.started": "2022-10-21T04:29:24.882243Z",
          "shell.execute_reply": "2022-10-21T04:29:25.571693Z"
        },
        "trusted": true,
        "id": "xDvyG3rFwhuw"
      },
      "execution_count": null,
      "outputs": []
    },
    {
      "cell_type": "markdown",
      "source": [
        "# <p style=\"background-color:#562F5E;font-family:verdana;color:white;font-size:100%;text-align:center;letter-spacing:0.5px;padding: 10px\"> MODEL SELECTION </p>"
      ],
      "metadata": {
        "id": "AxVeKVhswhuw"
      }
    },
    {
      "cell_type": "code",
      "source": [
        "gnb = GaussianNB()\n",
        "mnb = MultinomialNB()\n",
        "bnb = BernoulliNB()\n",
        "svc = SVC(kernel='sigmoid', gamma=1.0)\n",
        "knc = KNeighborsClassifier()\n",
        "dtc = DecisionTreeClassifier(max_depth=5)\n",
        "lrc = LogisticRegression(solver='liblinear', penalty='l1')\n",
        "rfc = RandomForestClassifier(n_estimators=50, random_state=0)\n",
        "abc = AdaBoostClassifier(n_estimators=50, random_state=0)\n",
        "bc = BaggingClassifier(n_estimators=50, random_state=0)\n",
        "etc = ExtraTreesClassifier(n_estimators=50, random_state=0)\n",
        "gbdt = GradientBoostingClassifier(n_estimators=50,random_state=0)\n",
        "xgb = XGBClassifier(n_estimators=50,random_state=0)\n",
        "sgd = SGDClassifier(random_state=0)\n",
        "cat = CatBoostClassifier(verbose=0, random_state=0)\n",
        "lgbm = LGBMClassifier(random_state=0)"
      ],
      "metadata": {
        "execution": {
          "iopub.status.busy": "2022-10-21T04:29:25.575022Z",
          "iopub.execute_input": "2022-10-21T04:29:25.575471Z",
          "iopub.status.idle": "2022-10-21T04:29:25.592958Z",
          "shell.execute_reply.started": "2022-10-21T04:29:25.575428Z",
          "shell.execute_reply": "2022-10-21T04:29:25.591205Z"
        },
        "trusted": true,
        "id": "krfnBCV7whuw"
      },
      "execution_count": null,
      "outputs": []
    },
    {
      "cell_type": "code",
      "source": [
        "classifiers = {\n",
        "    'GaussianNB' : gnb,\n",
        "    'MultinomialNB' : mnb,\n",
        "    'BernoulliNB' : bnb,\n",
        "    'SVC' : svc,\n",
        "    'KNeighbors' : knc,\n",
        "    'DecisionTree': dtc,\n",
        "    'LogisticRegression': lrc,\n",
        "    'RandomForest': rfc,\n",
        "    'AdaBoost': abc,\n",
        "    'BaggingClassifier': bc,\n",
        "    'ExtraTreesClassifier': etc,\n",
        "    'GradientBoosting': gbdt,\n",
        "    'XGB': xgb,\n",
        "    'SGD' : sgd,\n",
        "    'Catboost' : cat,\n",
        "    'LGBM' : lgbm\n",
        "}"
      ],
      "metadata": {
        "execution": {
          "iopub.status.busy": "2022-10-18T11:29:28.270523Z",
          "iopub.execute_input": "2022-10-18T11:29:28.270933Z",
          "iopub.status.idle": "2022-10-18T11:29:28.281519Z",
          "shell.execute_reply.started": "2022-10-18T11:29:28.270902Z",
          "shell.execute_reply": "2022-10-18T11:29:28.280653Z"
        },
        "trusted": true,
        "id": "n8tAyKuOwhuw"
      },
      "execution_count": null,
      "outputs": []
    },
    {
      "cell_type": "code",
      "source": [
        "# creating a function to train list of algorithms and give accuracy , precision score\n",
        "def train_classifier(classifiers,x_train,y_train,x_test,y_test):\n",
        "\n",
        "    classifiers.fit(x_train,y_train)\n",
        "\n",
        "    y_pred = classifiers.predict(x_test)\n",
        "    accuracy = accuracy_score(y_test,y_pred)\n",
        "    precision = precision_score(y_test,y_pred)\n",
        "\n",
        "    return accuracy,precision"
      ],
      "metadata": {
        "execution": {
          "iopub.status.busy": "2022-10-18T11:29:34.210659Z",
          "iopub.execute_input": "2022-10-18T11:29:34.211024Z",
          "iopub.status.idle": "2022-10-18T11:29:34.217231Z",
          "shell.execute_reply.started": "2022-10-18T11:29:34.211Z",
          "shell.execute_reply": "2022-10-18T11:29:34.21623Z"
        },
        "trusted": true,
        "id": "T_ic9K7Twhuw"
      },
      "execution_count": null,
      "outputs": []
    },
    {
      "cell_type": "code",
      "source": [
        "# storing accuracy and precision in list\n",
        "accuracy_scores = []\n",
        "precision_scores = []\n",
        "\n",
        "# training all the models on training data\n",
        "for name,classifiers in classifiers.items():\n",
        "\n",
        "    current_accuracy,current_precision = train_classifier(classifiers, x_train,y_train,x_test,y_test)\n",
        "\n",
        "    print(\"For \",name)\n",
        "    print(\"Accuracy - \",current_accuracy)\n",
        "    print(\"Precision - \",current_precision,'\\n')\n",
        "\n",
        "    accuracy_scores.append(current_accuracy)\n",
        "    precision_scores.append(current_precision)"
      ],
      "metadata": {
        "execution": {
          "iopub.status.busy": "2022-10-18T11:29:41.14148Z",
          "iopub.execute_input": "2022-10-18T11:29:41.141874Z",
          "iopub.status.idle": "2022-10-18T11:43:52.237956Z",
          "shell.execute_reply.started": "2022-10-18T11:29:41.141848Z",
          "shell.execute_reply": "2022-10-18T11:43:52.237217Z"
        },
        "trusted": true,
        "id": "C2otJOUJwhuw"
      },
      "execution_count": null,
      "outputs": []
    },
    {
      "cell_type": "code",
      "source": [
        "performance = pd.DataFrame({'Algorithm': classifier.keys(),'Accuracy':accuracy_scores,'Precision':precision_scores}).sort_values('Precision',ascending=False)\n",
        "performance"
      ],
      "metadata": {
        "execution": {
          "iopub.status.busy": "2022-10-18T11:27:54.363417Z",
          "iopub.execute_input": "2022-10-18T11:27:54.363768Z",
          "iopub.status.idle": "2022-10-18T11:27:54.379998Z",
          "shell.execute_reply.started": "2022-10-18T11:27:54.363743Z",
          "shell.execute_reply": "2022-10-18T11:27:54.379259Z"
        },
        "trusted": true,
        "id": "psrsqAPbwhuw"
      },
      "execution_count": null,
      "outputs": []
    },
    {
      "cell_type": "code",
      "source": [
        "performance_maxf17k = pd.DataFrame({'Algorithm':classifier.keys(),'Accuracy_maxf17k':accuracy_scores,'Precision_maxf17k':precision_scores}).sort_values('Precision_maxf17k',ascending=False)\n",
        "performance_maxf17k"
      ],
      "metadata": {
        "execution": {
          "iopub.status.busy": "2022-10-18T11:47:01.961663Z",
          "iopub.execute_input": "2022-10-18T11:47:01.962002Z",
          "iopub.status.idle": "2022-10-18T11:47:01.975165Z",
          "shell.execute_reply.started": "2022-10-18T11:47:01.961976Z",
          "shell.execute_reply": "2022-10-18T11:47:01.974071Z"
        },
        "trusted": true,
        "id": "-jqGqv0Bwhuw"
      },
      "execution_count": null,
      "outputs": []
    },
    {
      "cell_type": "code",
      "source": [
        "def objective_bnb(trial):\n",
        "        alpha = trial.suggest_categorical('alpha', [0.7,0.8,0.9,1,1.1,1.2,1.3])\n",
        "        binarize = trial.suggest_categorical('binarize', [0.0,0.1,0.2,0.3])\n",
        "\n",
        "        bnb = BernoulliNB(\n",
        "                                        alpha=alpha,\n",
        "                                        binarize=binarize\n",
        "        )\n",
        "        return cross_val_score(bnb, x_train, y_train, n_jobs=-1, verbose=0, scoring='precision').mean()"
      ],
      "metadata": {
        "execution": {
          "iopub.status.busy": "2022-10-21T04:30:13.999463Z",
          "iopub.execute_input": "2022-10-21T04:30:14.000162Z",
          "iopub.status.idle": "2022-10-21T04:30:14.009446Z",
          "shell.execute_reply.started": "2022-10-21T04:30:14.0001Z",
          "shell.execute_reply": "2022-10-21T04:30:14.007923Z"
        },
        "trusted": true,
        "id": "IYNjlHdtwhuw"
      },
      "execution_count": null,
      "outputs": []
    },
    {
      "cell_type": "code",
      "source": [
        "study = optuna.create_study(direction='maximize')\n",
        "study.optimize(objective_bnb, n_trials=10)\n",
        "\n",
        "trial = study.best_trial\n",
        "\n",
        "print('Accuracy: {}'.format(trial.value))\n",
        "print(\"Best hyperparameters: {}\".format(trial.params))"
      ],
      "metadata": {
        "execution": {
          "iopub.status.busy": "2022-10-21T04:30:15.163736Z",
          "iopub.execute_input": "2022-10-21T04:30:15.164486Z",
          "iopub.status.idle": "2022-10-21T04:31:08.410704Z",
          "shell.execute_reply.started": "2022-10-21T04:30:15.164433Z",
          "shell.execute_reply": "2022-10-21T04:31:08.409247Z"
        },
        "trusted": true,
        "id": "QPQCfT0Kwhux"
      },
      "execution_count": null,
      "outputs": []
    },
    {
      "cell_type": "code",
      "source": [
        "bnb = BernoulliNB(alpha=0.9, binarize=0.3)\n",
        "bnb.fit(x_train,y_train)\n",
        "\n",
        "bnb_pred = bnb.predict(x_test)\n",
        "print('Accuracy:',accuracy_score(y_test,bnb_pred))\n",
        "print('Precision:',precision_score(y_test,bnb_pred))"
      ],
      "metadata": {
        "execution": {
          "iopub.status.busy": "2022-10-21T04:31:14.753703Z",
          "iopub.execute_input": "2022-10-21T04:31:14.754236Z",
          "iopub.status.idle": "2022-10-21T04:31:16.233095Z",
          "shell.execute_reply.started": "2022-10-21T04:31:14.754188Z",
          "shell.execute_reply": "2022-10-21T04:31:16.231714Z"
        },
        "trusted": true,
        "id": "1SZ4kpR0whux"
      },
      "execution_count": null,
      "outputs": []
    },
    {
      "cell_type": "markdown",
      "source": [
        "**Tuning SGDClassifier:**"
      ],
      "metadata": {
        "id": "dyRau0-Cwhux"
      }
    },
    {
      "cell_type": "code",
      "source": [
        "def objective_sgd(trial):\n",
        "        loss = trial.suggest_categorical('loss', ['hinge','log_loss','log','modified_huber','squared_hinge','perceptron'])\n",
        "        penalty = trial.suggest_categorical('penalty', ['l2','l1','elasticnet'])\n",
        "        l1_ratio = trial.suggest_categorical('l1_ratio', [0.2,0.5,0.8])\n",
        "        max_iter = trial.suggest_categorical('max_iter', [100,500,1000])\n",
        "\n",
        "\n",
        "        sgd = SGDClassifier(\n",
        "                            early_stopping=True,\n",
        "                            random_state=0,\n",
        "                            loss=loss,\n",
        "                            penalty=penalty,\n",
        "                            l1_ratio=l1_ratio,\n",
        "                            max_iter=max_iter\n",
        "        )\n",
        "        return cross_val_score(sgd, x_train, y_train, n_jobs=-1, verbose=0, scoring='precision').mean()"
      ],
      "metadata": {
        "execution": {
          "iopub.status.busy": "2022-10-21T04:31:32.249032Z",
          "iopub.execute_input": "2022-10-21T04:31:32.249742Z",
          "iopub.status.idle": "2022-10-21T04:31:32.261588Z",
          "shell.execute_reply.started": "2022-10-21T04:31:32.249676Z",
          "shell.execute_reply": "2022-10-21T04:31:32.260157Z"
        },
        "trusted": true,
        "id": "_f7Z6J8swhux"
      },
      "execution_count": null,
      "outputs": []
    },
    {
      "cell_type": "code",
      "source": [
        "study = optuna.create_study(direction='maximize')\n",
        "study.optimize(objective_sgd, n_trials=20)\n",
        "\n",
        "trial_sgd = study.best_trial\n",
        "\n",
        "print('Accuracy: {}'.format(trial_sgd.value))\n",
        "print(\"Best hyperparameters: {}\".format(trial_sgd.params))"
      ],
      "metadata": {
        "execution": {
          "iopub.status.busy": "2022-10-21T04:35:00.498176Z",
          "iopub.execute_input": "2022-10-21T04:35:00.498717Z",
          "iopub.status.idle": "2022-10-21T04:37:34.439294Z",
          "shell.execute_reply.started": "2022-10-21T04:35:00.49867Z",
          "shell.execute_reply": "2022-10-21T04:37:34.43796Z"
        },
        "trusted": true,
        "id": "QK4zEWNuwhux"
      },
      "execution_count": null,
      "outputs": []
    },
    {
      "cell_type": "code",
      "source": [
        "sgd = SGDClassifier(loss='perceptron',penalty='l2',l1_ratio=0.5,max_iter=1000)\n",
        "sgd.fit(x_train,y_train)\n",
        "\n",
        "sgd_pred = sgd.predict(x_test)\n",
        "print('Accuracy:',accuracy_score(y_test,sgd_pred))\n",
        "print('Precision:',precision_score(y_test,sgd_pred))"
      ],
      "metadata": {
        "execution": {
          "iopub.status.busy": "2022-10-21T04:53:50.07593Z",
          "iopub.execute_input": "2022-10-21T04:53:50.077944Z",
          "iopub.status.idle": "2022-10-21T04:53:52.700446Z",
          "shell.execute_reply.started": "2022-10-21T04:53:50.077869Z",
          "shell.execute_reply": "2022-10-21T04:53:52.698875Z"
        },
        "trusted": true,
        "id": "VpQe2OIawhux"
      },
      "execution_count": null,
      "outputs": []
    }
  ]
}